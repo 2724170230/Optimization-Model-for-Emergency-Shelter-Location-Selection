{
 "cells": [
  {
   "cell_type": "code",
   "execution_count": 1,
   "id": "a412264a",
   "metadata": {},
   "outputs": [],
   "source": [
    "import pandas as pd\n",
    "import numpy as np"
   ]
  },
  {
   "cell_type": "code",
   "execution_count": 12,
   "id": "41da0009",
   "metadata": {},
   "outputs": [],
   "source": [
    "svi = pd.read_csv(\"./data/CDC/xn--CDCs_Social_Vulnerability_Index_(SVI)__2014_overall_SVI,_census_tract_level_-_Wake_County-7470.csv\")"
   ]
  },
  {
   "cell_type": "code",
   "execution_count": 2,
   "id": "416a7529",
   "metadata": {},
   "outputs": [],
   "source": [
    "cleaned_svi = pd.read_csv(\"./data/CDC/svi_cleaned.csv\")"
   ]
  },
  {
   "cell_type": "code",
   "execution_count": 3,
   "id": "1feb5689",
   "metadata": {},
   "outputs": [
    {
     "data": {
      "text/html": [
       "<div>\n",
       "<style scoped>\n",
       "    .dataframe tbody tr th:only-of-type {\n",
       "        vertical-align: middle;\n",
       "    }\n",
       "\n",
       "    .dataframe tbody tr th {\n",
       "        vertical-align: top;\n",
       "    }\n",
       "\n",
       "    .dataframe thead th {\n",
       "        text-align: right;\n",
       "    }\n",
       "</style>\n",
       "<table border=\"1\" class=\"dataframe\">\n",
       "  <thead>\n",
       "    <tr style=\"text-align: right;\">\n",
       "      <th></th>\n",
       "      <th>COUNTY</th>\n",
       "      <th>E_TOTPOP</th>\n",
       "      <th>Product</th>\n",
       "    </tr>\n",
       "  </thead>\n",
       "  <tbody>\n",
       "    <tr>\n",
       "      <th>0</th>\n",
       "      <td>Abbeville</td>\n",
       "      <td>25100</td>\n",
       "      <td>49679.0</td>\n",
       "    </tr>\n",
       "    <tr>\n",
       "      <th>1</th>\n",
       "      <td>Acadia</td>\n",
       "      <td>62031</td>\n",
       "      <td>110194.0</td>\n",
       "    </tr>\n",
       "    <tr>\n",
       "      <th>2</th>\n",
       "      <td>Accomack</td>\n",
       "      <td>33162</td>\n",
       "      <td>45829.0</td>\n",
       "    </tr>\n",
       "    <tr>\n",
       "      <th>3</th>\n",
       "      <td>Ada</td>\n",
       "      <td>409239</td>\n",
       "      <td>197684.0</td>\n",
       "    </tr>\n",
       "    <tr>\n",
       "      <th>4</th>\n",
       "      <td>Adair</td>\n",
       "      <td>74597</td>\n",
       "      <td>79896.0</td>\n",
       "    </tr>\n",
       "  </tbody>\n",
       "</table>\n",
       "</div>"
      ],
      "text/plain": [
       "       COUNTY  E_TOTPOP   Product\n",
       "0   Abbeville     25100   49679.0\n",
       "1      Acadia     62031  110194.0\n",
       "2    Accomack     33162   45829.0\n",
       "3         Ada    409239  197684.0\n",
       "4       Adair     74597   79896.0"
      ]
     },
     "execution_count": 3,
     "metadata": {},
     "output_type": "execute_result"
    }
   ],
   "source": [
    "cleaned_svi.head()"
   ]
  },
  {
   "cell_type": "code",
   "execution_count": 7,
   "id": "ad1bed9b",
   "metadata": {},
   "outputs": [
    {
     "name": "stdout",
     "output_type": "stream",
     "text": [
      "[25100 62031 33162 ... 12013  2837  4585]\n",
      "[ 49679. 110194.  45829. ...  68525.  19859.   9170.]\n"
     ]
    }
   ],
   "source": [
    "dic = {}\n",
    "for column in cleaned_svi.columns.to_list():\n",
    "    if column != \"COUNTY\":\n",
    "        ls = cleaned_svi[column].to_numpy()\n",
    "        print(ls)\n",
    "        quantile = []\n",
    "        for i in range(1, 11):\n",
    "            quantile.append(np.quantile(ls, i/10))\n",
    "        dic[column] = quantile"
   ]
  },
  {
   "cell_type": "code",
   "execution_count": 8,
   "id": "7705771c",
   "metadata": {},
   "outputs": [],
   "source": [
    "svi_quantile = pd.DataFrame(dic)"
   ]
  },
  {
   "cell_type": "code",
   "execution_count": 9,
   "id": "c8c1e5e6",
   "metadata": {},
   "outputs": [
    {
     "data": {
      "text/html": [
       "<div>\n",
       "<style scoped>\n",
       "    .dataframe tbody tr th:only-of-type {\n",
       "        vertical-align: middle;\n",
       "    }\n",
       "\n",
       "    .dataframe tbody tr th {\n",
       "        vertical-align: top;\n",
       "    }\n",
       "\n",
       "    .dataframe thead th {\n",
       "        text-align: right;\n",
       "    }\n",
       "</style>\n",
       "<table border=\"1\" class=\"dataframe\">\n",
       "  <thead>\n",
       "    <tr style=\"text-align: right;\">\n",
       "      <th></th>\n",
       "      <th>E_TOTPOP</th>\n",
       "      <th>Product</th>\n",
       "    </tr>\n",
       "  </thead>\n",
       "  <tbody>\n",
       "    <tr>\n",
       "      <th>0</th>\n",
       "      <td>5749.0</td>\n",
       "      <td>3028.0</td>\n",
       "    </tr>\n",
       "    <tr>\n",
       "      <th>1</th>\n",
       "      <td>10662.0</td>\n",
       "      <td>7801.0</td>\n",
       "    </tr>\n",
       "    <tr>\n",
       "      <th>2</th>\n",
       "      <td>17204.0</td>\n",
       "      <td>14510.0</td>\n",
       "    </tr>\n",
       "    <tr>\n",
       "      <th>3</th>\n",
       "      <td>25334.0</td>\n",
       "      <td>25079.0</td>\n",
       "    </tr>\n",
       "    <tr>\n",
       "      <th>4</th>\n",
       "      <td>38312.0</td>\n",
       "      <td>38352.0</td>\n",
       "    </tr>\n",
       "    <tr>\n",
       "      <th>5</th>\n",
       "      <td>59033.0</td>\n",
       "      <td>57910.0</td>\n",
       "    </tr>\n",
       "    <tr>\n",
       "      <th>6</th>\n",
       "      <td>93843.0</td>\n",
       "      <td>93489.0</td>\n",
       "    </tr>\n",
       "    <tr>\n",
       "      <th>7</th>\n",
       "      <td>171488.0</td>\n",
       "      <td>172172.0</td>\n",
       "    </tr>\n",
       "    <tr>\n",
       "      <th>8</th>\n",
       "      <td>408016.0</td>\n",
       "      <td>397911.0</td>\n",
       "    </tr>\n",
       "    <tr>\n",
       "      <th>9</th>\n",
       "      <td>9974179.0</td>\n",
       "      <td>30162720.0</td>\n",
       "    </tr>\n",
       "  </tbody>\n",
       "</table>\n",
       "</div>"
      ],
      "text/plain": [
       "    E_TOTPOP     Product\n",
       "0     5749.0      3028.0\n",
       "1    10662.0      7801.0\n",
       "2    17204.0     14510.0\n",
       "3    25334.0     25079.0\n",
       "4    38312.0     38352.0\n",
       "5    59033.0     57910.0\n",
       "6    93843.0     93489.0\n",
       "7   171488.0    172172.0\n",
       "8   408016.0    397911.0\n",
       "9  9974179.0  30162720.0"
      ]
     },
     "execution_count": 9,
     "metadata": {},
     "output_type": "execute_result"
    }
   ],
   "source": [
    "svi_quantile"
   ]
  },
  {
   "cell_type": "code",
   "execution_count": null,
   "id": "b6d5cc46",
   "metadata": {},
   "outputs": [],
   "source": []
  },
  {
   "cell_type": "code",
   "execution_count": 10,
   "id": "1214f044",
   "metadata": {},
   "outputs": [],
   "source": [
    "svi_quantile.to_csv(\"./data/CDC/svi_quantile.csv\")"
   ]
  },
  {
   "cell_type": "code",
   "execution_count": null,
   "id": "6ef4354e",
   "metadata": {},
   "outputs": [],
   "source": []
  },
  {
   "cell_type": "code",
   "execution_count": null,
   "id": "3776c169",
   "metadata": {},
   "outputs": [],
   "source": []
  },
  {
   "cell_type": "code",
   "execution_count": null,
   "id": "d3a3a365",
   "metadata": {},
   "outputs": [],
   "source": []
  },
  {
   "cell_type": "code",
   "execution_count": null,
   "id": "c80687c5",
   "metadata": {},
   "outputs": [],
   "source": []
  },
  {
   "cell_type": "code",
   "execution_count": null,
   "id": "a983e51a",
   "metadata": {},
   "outputs": [],
   "source": []
  },
  {
   "cell_type": "code",
   "execution_count": 13,
   "id": "c9169503",
   "metadata": {},
   "outputs": [
    {
     "data": {
      "text/html": [
       "<div>\n",
       "<style scoped>\n",
       "    .dataframe tbody tr th:only-of-type {\n",
       "        vertical-align: middle;\n",
       "    }\n",
       "\n",
       "    .dataframe tbody tr th {\n",
       "        vertical-align: top;\n",
       "    }\n",
       "\n",
       "    .dataframe thead th {\n",
       "        text-align: right;\n",
       "    }\n",
       "</style>\n",
       "<table border=\"1\" class=\"dataframe\">\n",
       "  <thead>\n",
       "    <tr style=\"text-align: right;\">\n",
       "      <th></th>\n",
       "      <th>ST_ABBR</th>\n",
       "      <th>COUNTY</th>\n",
       "      <th>E_TOTPOP</th>\n",
       "      <th>F_TOTAL</th>\n",
       "    </tr>\n",
       "  </thead>\n",
       "  <tbody>\n",
       "    <tr>\n",
       "      <th>0</th>\n",
       "      <td>NY</td>\n",
       "      <td>Oneida</td>\n",
       "      <td>4432</td>\n",
       "      <td>2</td>\n",
       "    </tr>\n",
       "    <tr>\n",
       "      <th>1</th>\n",
       "      <td>NY</td>\n",
       "      <td>Oneida</td>\n",
       "      <td>2406</td>\n",
       "      <td>1</td>\n",
       "    </tr>\n",
       "    <tr>\n",
       "      <th>2</th>\n",
       "      <td>NY</td>\n",
       "      <td>Oneida</td>\n",
       "      <td>4498</td>\n",
       "      <td>0</td>\n",
       "    </tr>\n",
       "    <tr>\n",
       "      <th>3</th>\n",
       "      <td>NY</td>\n",
       "      <td>Oneida</td>\n",
       "      <td>3799</td>\n",
       "      <td>0</td>\n",
       "    </tr>\n",
       "    <tr>\n",
       "      <th>4</th>\n",
       "      <td>NY</td>\n",
       "      <td>Oneida</td>\n",
       "      <td>2298</td>\n",
       "      <td>0</td>\n",
       "    </tr>\n",
       "  </tbody>\n",
       "</table>\n",
       "</div>"
      ],
      "text/plain": [
       "  ST_ABBR   COUNTY  E_TOTPOP  F_TOTAL\n",
       "0      NY   Oneida      4432        2\n",
       "1      NY   Oneida      2406        1\n",
       "2      NY   Oneida      4498        0\n",
       "3      NY   Oneida      3799        0\n",
       "4      NY   Oneida      2298        0"
      ]
     },
     "execution_count": 13,
     "metadata": {},
     "output_type": "execute_result"
    }
   ],
   "source": [
    "svi.head()"
   ]
  },
  {
   "cell_type": "code",
   "execution_count": 14,
   "id": "83f3eebd",
   "metadata": {},
   "outputs": [],
   "source": [
    "svi.replace(-999, np.nan, inplace = True)"
   ]
  },
  {
   "cell_type": "code",
   "execution_count": 25,
   "id": "fec27638",
   "metadata": {},
   "outputs": [],
   "source": [
    "svi.drop([\"M_TOTPOP\",\"AREA_SQMI\"], axis = 1, inplace = True)"
   ]
  },
  {
   "cell_type": "code",
   "execution_count": 15,
   "id": "68185d93",
   "metadata": {},
   "outputs": [],
   "source": [
    "svi.dropna(inplace = True)"
   ]
  },
  {
   "cell_type": "code",
   "execution_count": 16,
   "id": "04a5dd40",
   "metadata": {},
   "outputs": [
    {
     "name": "stdout",
     "output_type": "stream",
     "text": [
      "<class 'pandas.core.frame.DataFrame'>\n",
      "Int64Index: 72382 entries, 0 to 72841\n",
      "Data columns (total 4 columns):\n",
      " #   Column    Non-Null Count  Dtype  \n",
      "---  ------    --------------  -----  \n",
      " 0   ST_ABBR   72382 non-null  object \n",
      " 1   COUNTY    72382 non-null  object \n",
      " 2   E_TOTPOP  72382 non-null  int64  \n",
      " 3   F_TOTAL   72382 non-null  float64\n",
      "dtypes: float64(1), int64(1), object(2)\n",
      "memory usage: 2.8+ MB\n"
     ]
    }
   ],
   "source": [
    "svi.info()"
   ]
  },
  {
   "cell_type": "code",
   "execution_count": 17,
   "id": "c77b3645",
   "metadata": {},
   "outputs": [],
   "source": [
    "prod = svi[\"E_TOTPOP\"] * svi[\"F_TOTAL\"]"
   ]
  },
  {
   "cell_type": "code",
   "execution_count": 18,
   "id": "667ede10",
   "metadata": {},
   "outputs": [
    {
     "data": {
      "text/plain": [
       "0    8864.0\n",
       "1    2406.0\n",
       "2       0.0\n",
       "3       0.0\n",
       "4       0.0\n",
       "dtype: float64"
      ]
     },
     "execution_count": 18,
     "metadata": {},
     "output_type": "execute_result"
    }
   ],
   "source": [
    "prod.head()"
   ]
  },
  {
   "cell_type": "code",
   "execution_count": 19,
   "id": "7f354116",
   "metadata": {},
   "outputs": [],
   "source": [
    "svi[\"Product\"] = prod"
   ]
  },
  {
   "cell_type": "code",
   "execution_count": 20,
   "id": "264f53b1",
   "metadata": {},
   "outputs": [
    {
     "data": {
      "text/html": [
       "<div>\n",
       "<style scoped>\n",
       "    .dataframe tbody tr th:only-of-type {\n",
       "        vertical-align: middle;\n",
       "    }\n",
       "\n",
       "    .dataframe tbody tr th {\n",
       "        vertical-align: top;\n",
       "    }\n",
       "\n",
       "    .dataframe thead th {\n",
       "        text-align: right;\n",
       "    }\n",
       "</style>\n",
       "<table border=\"1\" class=\"dataframe\">\n",
       "  <thead>\n",
       "    <tr style=\"text-align: right;\">\n",
       "      <th></th>\n",
       "      <th>ST_ABBR</th>\n",
       "      <th>COUNTY</th>\n",
       "      <th>E_TOTPOP</th>\n",
       "      <th>F_TOTAL</th>\n",
       "      <th>Product</th>\n",
       "    </tr>\n",
       "  </thead>\n",
       "  <tbody>\n",
       "    <tr>\n",
       "      <th>0</th>\n",
       "      <td>NY</td>\n",
       "      <td>Oneida</td>\n",
       "      <td>4432</td>\n",
       "      <td>2.0</td>\n",
       "      <td>8864.0</td>\n",
       "    </tr>\n",
       "    <tr>\n",
       "      <th>1</th>\n",
       "      <td>NY</td>\n",
       "      <td>Oneida</td>\n",
       "      <td>2406</td>\n",
       "      <td>1.0</td>\n",
       "      <td>2406.0</td>\n",
       "    </tr>\n",
       "    <tr>\n",
       "      <th>2</th>\n",
       "      <td>NY</td>\n",
       "      <td>Oneida</td>\n",
       "      <td>4498</td>\n",
       "      <td>0.0</td>\n",
       "      <td>0.0</td>\n",
       "    </tr>\n",
       "    <tr>\n",
       "      <th>3</th>\n",
       "      <td>NY</td>\n",
       "      <td>Oneida</td>\n",
       "      <td>3799</td>\n",
       "      <td>0.0</td>\n",
       "      <td>0.0</td>\n",
       "    </tr>\n",
       "    <tr>\n",
       "      <th>4</th>\n",
       "      <td>NY</td>\n",
       "      <td>Oneida</td>\n",
       "      <td>2298</td>\n",
       "      <td>0.0</td>\n",
       "      <td>0.0</td>\n",
       "    </tr>\n",
       "  </tbody>\n",
       "</table>\n",
       "</div>"
      ],
      "text/plain": [
       "  ST_ABBR   COUNTY  E_TOTPOP  F_TOTAL  Product\n",
       "0      NY   Oneida      4432      2.0   8864.0\n",
       "1      NY   Oneida      2406      1.0   2406.0\n",
       "2      NY   Oneida      4498      0.0      0.0\n",
       "3      NY   Oneida      3799      0.0      0.0\n",
       "4      NY   Oneida      2298      0.0      0.0"
      ]
     },
     "execution_count": 20,
     "metadata": {},
     "output_type": "execute_result"
    }
   ],
   "source": [
    "svi.head()"
   ]
  },
  {
   "cell_type": "code",
   "execution_count": 21,
   "id": "669e1a1a",
   "metadata": {},
   "outputs": [],
   "source": [
    "svi[\"COUNTY\"] = svi[\"COUNTY\"] + svi[\"ST_ABBR\"]"
   ]
  },
  {
   "cell_type": "code",
   "execution_count": 28,
   "id": "847242fa",
   "metadata": {},
   "outputs": [
    {
     "data": {
      "text/html": [
       "<div>\n",
       "<style scoped>\n",
       "    .dataframe tbody tr th:only-of-type {\n",
       "        vertical-align: middle;\n",
       "    }\n",
       "\n",
       "    .dataframe tbody tr th {\n",
       "        vertical-align: top;\n",
       "    }\n",
       "\n",
       "    .dataframe thead th {\n",
       "        text-align: right;\n",
       "    }\n",
       "</style>\n",
       "<table border=\"1\" class=\"dataframe\">\n",
       "  <thead>\n",
       "    <tr style=\"text-align: right;\">\n",
       "      <th></th>\n",
       "      <th>COUNTY</th>\n",
       "      <th>E_TOTPOP</th>\n",
       "      <th>F_TOTAL</th>\n",
       "      <th>Product</th>\n",
       "    </tr>\n",
       "  </thead>\n",
       "  <tbody>\n",
       "    <tr>\n",
       "      <th>0</th>\n",
       "      <td>OneidaNY</td>\n",
       "      <td>4432</td>\n",
       "      <td>2.0</td>\n",
       "      <td>8864.0</td>\n",
       "    </tr>\n",
       "    <tr>\n",
       "      <th>1</th>\n",
       "      <td>OneidaNY</td>\n",
       "      <td>2406</td>\n",
       "      <td>1.0</td>\n",
       "      <td>2406.0</td>\n",
       "    </tr>\n",
       "    <tr>\n",
       "      <th>2</th>\n",
       "      <td>OneidaNY</td>\n",
       "      <td>4498</td>\n",
       "      <td>0.0</td>\n",
       "      <td>0.0</td>\n",
       "    </tr>\n",
       "    <tr>\n",
       "      <th>3</th>\n",
       "      <td>OneidaNY</td>\n",
       "      <td>3799</td>\n",
       "      <td>0.0</td>\n",
       "      <td>0.0</td>\n",
       "    </tr>\n",
       "    <tr>\n",
       "      <th>4</th>\n",
       "      <td>OneidaNY</td>\n",
       "      <td>2298</td>\n",
       "      <td>0.0</td>\n",
       "      <td>0.0</td>\n",
       "    </tr>\n",
       "  </tbody>\n",
       "</table>\n",
       "</div>"
      ],
      "text/plain": [
       "      COUNTY  E_TOTPOP  F_TOTAL  Product\n",
       "0   OneidaNY      4432      2.0   8864.0\n",
       "1   OneidaNY      2406      1.0   2406.0\n",
       "2   OneidaNY      4498      0.0      0.0\n",
       "3   OneidaNY      3799      0.0      0.0\n",
       "4   OneidaNY      2298      0.0      0.0"
      ]
     },
     "execution_count": 28,
     "metadata": {},
     "output_type": "execute_result"
    }
   ],
   "source": [
    "svi.head()"
   ]
  },
  {
   "cell_type": "code",
   "execution_count": 27,
   "id": "a78445db",
   "metadata": {},
   "outputs": [],
   "source": [
    "svi.drop([\"ST_ABBR\"], inplace = True, axis = 1)"
   ]
  },
  {
   "cell_type": "code",
   "execution_count": null,
   "id": "6aa22dc6",
   "metadata": {},
   "outputs": [],
   "source": []
  },
  {
   "cell_type": "code",
   "execution_count": null,
   "id": "1b8c7190",
   "metadata": {},
   "outputs": [],
   "source": []
  },
  {
   "cell_type": "code",
   "execution_count": null,
   "id": "3419f3b4",
   "metadata": {},
   "outputs": [],
   "source": []
  },
  {
   "cell_type": "code",
   "execution_count": 29,
   "id": "ea49ddf8",
   "metadata": {},
   "outputs": [],
   "source": [
    "svi = svi.groupby([\"COUNTY\"]).sum()"
   ]
  },
  {
   "cell_type": "code",
   "execution_count": null,
   "id": "58258495",
   "metadata": {},
   "outputs": [],
   "source": []
  },
  {
   "cell_type": "code",
   "execution_count": null,
   "id": "2ec42245",
   "metadata": {},
   "outputs": [],
   "source": []
  },
  {
   "cell_type": "code",
   "execution_count": null,
   "id": "dad65ec5",
   "metadata": {},
   "outputs": [],
   "source": []
  },
  {
   "cell_type": "code",
   "execution_count": null,
   "id": "4c4e46d9",
   "metadata": {},
   "outputs": [],
   "source": []
  },
  {
   "cell_type": "code",
   "execution_count": null,
   "id": "80f45bc4",
   "metadata": {},
   "outputs": [],
   "source": []
  },
  {
   "cell_type": "code",
   "execution_count": null,
   "id": "6a148506",
   "metadata": {},
   "outputs": [],
   "source": []
  },
  {
   "cell_type": "code",
   "execution_count": 30,
   "id": "3fbb3335",
   "metadata": {},
   "outputs": [
    {
     "data": {
      "text/html": [
       "<div>\n",
       "<style scoped>\n",
       "    .dataframe tbody tr th:only-of-type {\n",
       "        vertical-align: middle;\n",
       "    }\n",
       "\n",
       "    .dataframe tbody tr th {\n",
       "        vertical-align: top;\n",
       "    }\n",
       "\n",
       "    .dataframe thead th {\n",
       "        text-align: right;\n",
       "    }\n",
       "</style>\n",
       "<table border=\"1\" class=\"dataframe\">\n",
       "  <thead>\n",
       "    <tr style=\"text-align: right;\">\n",
       "      <th></th>\n",
       "      <th>E_TOTPOP</th>\n",
       "      <th>F_TOTAL</th>\n",
       "      <th>Product</th>\n",
       "    </tr>\n",
       "    <tr>\n",
       "      <th>COUNTY</th>\n",
       "      <th></th>\n",
       "      <th></th>\n",
       "      <th></th>\n",
       "    </tr>\n",
       "  </thead>\n",
       "  <tbody>\n",
       "    <tr>\n",
       "      <th>AbbevilleSC</th>\n",
       "      <td>25100</td>\n",
       "      <td>13.0</td>\n",
       "      <td>49679.0</td>\n",
       "    </tr>\n",
       "    <tr>\n",
       "      <th>AcadiaLA</th>\n",
       "      <td>62031</td>\n",
       "      <td>21.0</td>\n",
       "      <td>110194.0</td>\n",
       "    </tr>\n",
       "    <tr>\n",
       "      <th>AccomackVA</th>\n",
       "      <td>33162</td>\n",
       "      <td>9.0</td>\n",
       "      <td>45829.0</td>\n",
       "    </tr>\n",
       "    <tr>\n",
       "      <th>AdaID</th>\n",
       "      <td>409239</td>\n",
       "      <td>31.0</td>\n",
       "      <td>197684.0</td>\n",
       "    </tr>\n",
       "    <tr>\n",
       "      <th>AdairIA</th>\n",
       "      <td>7543</td>\n",
       "      <td>1.0</td>\n",
       "      <td>3012.0</td>\n",
       "    </tr>\n",
       "  </tbody>\n",
       "</table>\n",
       "</div>"
      ],
      "text/plain": [
       "              E_TOTPOP  F_TOTAL   Product\n",
       "COUNTY                                   \n",
       " AbbevilleSC     25100     13.0   49679.0\n",
       " AcadiaLA        62031     21.0  110194.0\n",
       " AccomackVA      33162      9.0   45829.0\n",
       " AdaID          409239     31.0  197684.0\n",
       " AdairIA          7543      1.0    3012.0"
      ]
     },
     "execution_count": 30,
     "metadata": {},
     "output_type": "execute_result"
    }
   ],
   "source": [
    "svi.head()"
   ]
  },
  {
   "cell_type": "code",
   "execution_count": 31,
   "id": "daccb333",
   "metadata": {},
   "outputs": [],
   "source": [
    "svi.drop([\"F_TOTAL\"], axis = 1, inplace = True)"
   ]
  },
  {
   "cell_type": "code",
   "execution_count": 36,
   "id": "b622b4ba",
   "metadata": {},
   "outputs": [
    {
     "name": "stdout",
     "output_type": "stream",
     "text": [
      "<class 'pandas.core.frame.DataFrame'>\n",
      "Index: 1851 entries,  Abbeville to Alameda\n",
      "Data columns (total 2 columns):\n",
      " #   Column    Non-Null Count  Dtype  \n",
      "---  ------    --------------  -----  \n",
      " 0   E_TOTPOP  1851 non-null   int64  \n",
      " 1   Product   1851 non-null   float64\n",
      "dtypes: float64(1), int64(1)\n",
      "memory usage: 107.9+ KB\n"
     ]
    }
   ],
   "source": [
    "svi.info()"
   ]
  },
  {
   "cell_type": "code",
   "execution_count": 32,
   "id": "6f933c41",
   "metadata": {},
   "outputs": [
    {
     "data": {
      "text/plain": [
       "E_TOTPOP     9974179.0\n",
       "Product     30162720.0\n",
       "dtype: float64"
      ]
     },
     "execution_count": 32,
     "metadata": {},
     "output_type": "execute_result"
    }
   ],
   "source": [
    "svi.max()"
   ]
  },
  {
   "cell_type": "code",
   "execution_count": 38,
   "id": "745ebf30",
   "metadata": {},
   "outputs": [
    {
     "data": {
      "text/plain": [
       "E_TOTPOP    73.0\n",
       "Product      0.0\n",
       "dtype: float64"
      ]
     },
     "execution_count": 38,
     "metadata": {},
     "output_type": "execute_result"
    }
   ],
   "source": [
    "svi.min()"
   ]
  },
  {
   "cell_type": "code",
   "execution_count": 33,
   "id": "d2c1f6a6",
   "metadata": {},
   "outputs": [
    {
     "data": {
      "text/html": [
       "<div>\n",
       "<style scoped>\n",
       "    .dataframe tbody tr th:only-of-type {\n",
       "        vertical-align: middle;\n",
       "    }\n",
       "\n",
       "    .dataframe tbody tr th {\n",
       "        vertical-align: top;\n",
       "    }\n",
       "\n",
       "    .dataframe thead th {\n",
       "        text-align: right;\n",
       "    }\n",
       "</style>\n",
       "<table border=\"1\" class=\"dataframe\">\n",
       "  <thead>\n",
       "    <tr style=\"text-align: right;\">\n",
       "      <th></th>\n",
       "      <th>E_TOTPOP</th>\n",
       "      <th>Product</th>\n",
       "    </tr>\n",
       "  </thead>\n",
       "  <tbody>\n",
       "    <tr>\n",
       "      <th>count</th>\n",
       "      <td>3.142000e+03</td>\n",
       "      <td>3.142000e+03</td>\n",
       "    </tr>\n",
       "    <tr>\n",
       "      <th>mean</th>\n",
       "      <td>9.996977e+04</td>\n",
       "      <td>1.394773e+05</td>\n",
       "    </tr>\n",
       "    <tr>\n",
       "      <th>std</th>\n",
       "      <td>3.199211e+05</td>\n",
       "      <td>7.846648e+05</td>\n",
       "    </tr>\n",
       "    <tr>\n",
       "      <th>min</th>\n",
       "      <td>7.300000e+01</td>\n",
       "      <td>0.000000e+00</td>\n",
       "    </tr>\n",
       "    <tr>\n",
       "      <th>25%</th>\n",
       "      <td>1.102875e+04</td>\n",
       "      <td>7.206000e+03</td>\n",
       "    </tr>\n",
       "    <tr>\n",
       "      <th>50%</th>\n",
       "      <td>2.579850e+04</td>\n",
       "      <td>2.548300e+04</td>\n",
       "    </tr>\n",
       "    <tr>\n",
       "      <th>75%</th>\n",
       "      <td>6.710700e+04</td>\n",
       "      <td>6.850275e+04</td>\n",
       "    </tr>\n",
       "    <tr>\n",
       "      <th>max</th>\n",
       "      <td>9.974179e+06</td>\n",
       "      <td>3.016272e+07</td>\n",
       "    </tr>\n",
       "  </tbody>\n",
       "</table>\n",
       "</div>"
      ],
      "text/plain": [
       "           E_TOTPOP       Product\n",
       "count  3.142000e+03  3.142000e+03\n",
       "mean   9.996977e+04  1.394773e+05\n",
       "std    3.199211e+05  7.846648e+05\n",
       "min    7.300000e+01  0.000000e+00\n",
       "25%    1.102875e+04  7.206000e+03\n",
       "50%    2.579850e+04  2.548300e+04\n",
       "75%    6.710700e+04  6.850275e+04\n",
       "max    9.974179e+06  3.016272e+07"
      ]
     },
     "execution_count": 33,
     "metadata": {},
     "output_type": "execute_result"
    }
   ],
   "source": [
    "svi.describe()"
   ]
  },
  {
   "cell_type": "code",
   "execution_count": 34,
   "id": "9c402ab4",
   "metadata": {},
   "outputs": [],
   "source": [
    "svi.to_csv(\"./data/CDC/svi_cleaned_with_state.csv\")"
   ]
  },
  {
   "cell_type": "code",
   "execution_count": null,
   "id": "56c633b9",
   "metadata": {},
   "outputs": [],
   "source": []
  }
 ],
 "metadata": {
  "kernelspec": {
   "display_name": "Python 3",
   "language": "python",
   "name": "python3"
  },
  "language_info": {
   "codemirror_mode": {
    "name": "ipython",
    "version": 3
   },
   "file_extension": ".py",
   "mimetype": "text/x-python",
   "name": "python",
   "nbconvert_exporter": "python",
   "pygments_lexer": "ipython3",
   "version": "3.8.8"
  }
 },
 "nbformat": 4,
 "nbformat_minor": 5
}
