{
 "cells": [
  {
   "cell_type": "code",
   "execution_count": 1,
   "id": "cf1b26a3",
   "metadata": {},
   "outputs": [
    {
     "data": {
      "text/html": [
       "\n",
       "        <iframe\n",
       "            width=\"100%\"\n",
       "            height=\"650\"\n",
       "            src=\"http://127.0.0.1:7070/\"\n",
       "            frameborder=\"0\"\n",
       "            allowfullscreen\n",
       "        ></iframe>\n",
       "        "
      ],
      "text/plain": [
       "<IPython.lib.display.IFrame at 0x25e62755520>"
      ]
     },
     "metadata": {},
     "output_type": "display_data"
    },
    {
     "name": "stdout",
     "output_type": "stream",
     "text": [
      "[37.66691309952302, -87.38708700489241]\n",
      "[33.85157570862972, -84.02335173851985]\n",
      "[33.83788866910225, -83.90044220012322]\n",
      "[33.95472814226043, -83.98352630149749]\n"
     ]
    }
   ],
   "source": [
    "from jupyter_dash import JupyterDash\n",
    "\n",
    "import json\n",
    "import dash\n",
    "import dash_core_components as dcc\n",
    "import dash_html_components as html\n",
    "import dash_leaflet as dl\n",
    "# import settings\n",
    "\n",
    "from dash.dependencies import Output, Input\n",
    "\n",
    "MAP_ID = \"map-id\"\n",
    "COORDINATE_CLICK_ID = \"coordinate-click-id\"\n",
    "\n",
    "# app = dash.Dash(__name__, external_scripts=['https://codepen.io/chriddyp/pen/bWLwgP.css'])\n",
    "app = JupyterDash(__name__, external_scripts=['https://codepen.io/chriddyp/pen/bWLwgP.css'])\n",
    "\n",
    "# Create layout.\n",
    "app.layout = html.Div([\n",
    "    html.H1(\"Coordinates You Clicked\"),\n",
    "    dl.Map(id=MAP_ID, style={'width': '1000px', 'height': '400px'}, center=[38, -95.8], zoom=4, children=[\n",
    "        dl.TileLayer()\n",
    "        ]),\n",
    "    html.P(\"Coordinate (click on map):\"),\n",
    "    html.Div(id=COORDINATE_CLICK_ID)\n",
    "\n",
    "])\n",
    "\n",
    "@app.callback(Output(COORDINATE_CLICK_ID, 'children'),\n",
    "              [Input(MAP_ID, 'click_lat_lng')])\n",
    "def click_coord(e):\n",
    "    if e is not None:\n",
    "        print(e)\n",
    "        return json.dumps(e)\n",
    "    else:\n",
    "        return \"-\"\n",
    "\n",
    "\n",
    "# app.run_server(host='127.0.0.1', port=8081, debug=True) \n",
    "app.run_server(host='127.0.0.1', port=7070, debug=True, mode='inline') "
   ]
  },
  {
   "cell_type": "code",
   "execution_count": 2,
   "id": "22ba9019",
   "metadata": {},
   "outputs": [
    {
     "name": "stdout",
     "output_type": "stream",
     "text": [
      "Collecting jupyter_dash\n",
      "  Downloading jupyter_dash-0.4.0-py3-none-any.whl (20 kB)\n",
      "Requirement already satisfied: retrying in c:\\users\\qaz27\\anaconda3\\lib\\site-packages (from jupyter_dash) (1.3.3)\n",
      "Requirement already satisfied: dash in c:\\users\\qaz27\\anaconda3\\lib\\site-packages (from jupyter_dash) (2.0.0)\n",
      "Collecting ansi2html\n",
      "  Downloading ansi2html-1.6.0-py3-none-any.whl (14 kB)\n",
      "Requirement already satisfied: flask in c:\\users\\qaz27\\anaconda3\\lib\\site-packages (from jupyter_dash) (1.1.2)\n",
      "Requirement already satisfied: ipykernel in c:\\users\\qaz27\\anaconda3\\lib\\site-packages (from jupyter_dash) (5.3.4)\n",
      "Requirement already satisfied: requests in c:\\users\\qaz27\\anaconda3\\lib\\site-packages (from jupyter_dash) (2.25.1)\n",
      "Requirement already satisfied: ipython in c:\\users\\qaz27\\anaconda3\\lib\\site-packages (from jupyter_dash) (7.22.0)\n",
      "Requirement already satisfied: plotly>=5.0.0 in c:\\users\\qaz27\\anaconda3\\lib\\site-packages (from dash->jupyter_dash) (5.3.1)\n",
      "Requirement already satisfied: dash-core-components==2.0.0 in c:\\users\\qaz27\\anaconda3\\lib\\site-packages (from dash->jupyter_dash) (2.0.0)\n",
      "Requirement already satisfied: flask-compress in c:\\users\\qaz27\\anaconda3\\lib\\site-packages (from dash->jupyter_dash) (1.10.1)\n",
      "Requirement already satisfied: dash-table==5.0.0 in c:\\users\\qaz27\\anaconda3\\lib\\site-packages (from dash->jupyter_dash) (5.0.0)\n",
      "Requirement already satisfied: dash-html-components==2.0.0 in c:\\users\\qaz27\\anaconda3\\lib\\site-packages (from dash->jupyter_dash) (2.0.0)\n",
      "Requirement already satisfied: Werkzeug>=0.15 in c:\\users\\qaz27\\anaconda3\\lib\\site-packages (from flask->jupyter_dash) (1.0.1)\n",
      "Requirement already satisfied: click>=5.1 in c:\\users\\qaz27\\anaconda3\\lib\\site-packages (from flask->jupyter_dash) (7.1.2)\n",
      "Requirement already satisfied: Jinja2>=2.10.1 in c:\\users\\qaz27\\anaconda3\\lib\\site-packages (from flask->jupyter_dash) (2.11.3)\n",
      "Requirement already satisfied: itsdangerous>=0.24 in c:\\users\\qaz27\\anaconda3\\lib\\site-packages (from flask->jupyter_dash) (1.1.0)\n",
      "Requirement already satisfied: MarkupSafe>=0.23 in c:\\users\\qaz27\\anaconda3\\lib\\site-packages (from Jinja2>=2.10.1->flask->jupyter_dash) (1.1.1)\n",
      "Requirement already satisfied: tenacity>=6.2.0 in c:\\users\\qaz27\\anaconda3\\lib\\site-packages (from plotly>=5.0.0->dash->jupyter_dash) (8.0.1)\n",
      "Requirement already satisfied: six in c:\\users\\qaz27\\anaconda3\\lib\\site-packages (from plotly>=5.0.0->dash->jupyter_dash) (1.15.0)\n",
      "Requirement already satisfied: brotli in c:\\users\\qaz27\\anaconda3\\lib\\site-packages (from flask-compress->dash->jupyter_dash) (1.0.9)\n",
      "Requirement already satisfied: traitlets>=4.1.0 in c:\\users\\qaz27\\anaconda3\\lib\\site-packages (from ipykernel->jupyter_dash) (5.0.5)\n",
      "Requirement already satisfied: jupyter-client in c:\\users\\qaz27\\anaconda3\\lib\\site-packages (from ipykernel->jupyter_dash) (6.1.12)\n",
      "Requirement already satisfied: tornado>=4.2 in c:\\users\\qaz27\\anaconda3\\lib\\site-packages (from ipykernel->jupyter_dash) (6.1)\n",
      "Requirement already satisfied: pickleshare in c:\\users\\qaz27\\anaconda3\\lib\\site-packages (from ipython->jupyter_dash) (0.7.5)\n",
      "Requirement already satisfied: setuptools>=18.5 in c:\\users\\qaz27\\anaconda3\\lib\\site-packages (from ipython->jupyter_dash) (52.0.0.post20210125)\n",
      "Requirement already satisfied: pygments in c:\\users\\qaz27\\anaconda3\\lib\\site-packages (from ipython->jupyter_dash) (2.8.1)\n",
      "Requirement already satisfied: jedi>=0.16 in c:\\users\\qaz27\\anaconda3\\lib\\site-packages (from ipython->jupyter_dash) (0.17.2)\n",
      "Requirement already satisfied: colorama in c:\\users\\qaz27\\anaconda3\\lib\\site-packages (from ipython->jupyter_dash) (0.4.4)\n",
      "Requirement already satisfied: backcall in c:\\users\\qaz27\\anaconda3\\lib\\site-packages (from ipython->jupyter_dash) (0.2.0)\n",
      "Requirement already satisfied: prompt-toolkit!=3.0.0,!=3.0.1,<3.1.0,>=2.0.0 in c:\\users\\qaz27\\anaconda3\\lib\\site-packages (from ipython->jupyter_dash) (3.0.17)\n",
      "Requirement already satisfied: decorator in c:\\users\\qaz27\\anaconda3\\lib\\site-packages (from ipython->jupyter_dash) (5.0.6)\n",
      "Requirement already satisfied: parso<0.8.0,>=0.7.0 in c:\\users\\qaz27\\anaconda3\\lib\\site-packages (from jedi>=0.16->ipython->jupyter_dash) (0.7.0)\n",
      "Requirement already satisfied: wcwidth in c:\\users\\qaz27\\anaconda3\\lib\\site-packages (from prompt-toolkit!=3.0.0,!=3.0.1,<3.1.0,>=2.0.0->ipython->jupyter_dash) (0.2.5)\n",
      "Requirement already satisfied: ipython-genutils in c:\\users\\qaz27\\anaconda3\\lib\\site-packages (from traitlets>=4.1.0->ipykernel->jupyter_dash) (0.2.0)\n",
      "Requirement already satisfied: python-dateutil>=2.1 in c:\\users\\qaz27\\anaconda3\\lib\\site-packages (from jupyter-client->ipykernel->jupyter_dash) (2.8.1)\n",
      "Requirement already satisfied: pyzmq>=13 in c:\\users\\qaz27\\anaconda3\\lib\\site-packages (from jupyter-client->ipykernel->jupyter_dash) (20.0.0)\n",
      "Requirement already satisfied: jupyter-core>=4.6.0 in c:\\users\\qaz27\\anaconda3\\lib\\site-packages (from jupyter-client->ipykernel->jupyter_dash) (4.7.1)\n",
      "Requirement already satisfied: pywin32>=1.0 in c:\\users\\qaz27\\anaconda3\\lib\\site-packages (from jupyter-core>=4.6.0->jupyter-client->ipykernel->jupyter_dash) (227)\n",
      "Requirement already satisfied: certifi>=2017.4.17 in c:\\users\\qaz27\\anaconda3\\lib\\site-packages (from requests->jupyter_dash) (2020.12.5)\n",
      "Requirement already satisfied: chardet<5,>=3.0.2 in c:\\users\\qaz27\\anaconda3\\lib\\site-packages (from requests->jupyter_dash) (4.0.0)\n",
      "Requirement already satisfied: urllib3<1.27,>=1.21.1 in c:\\users\\qaz27\\anaconda3\\lib\\site-packages (from requests->jupyter_dash) (1.26.4)\n",
      "Requirement already satisfied: idna<3,>=2.5 in c:\\users\\qaz27\\anaconda3\\lib\\site-packages (from requests->jupyter_dash) (2.10)\n",
      "Installing collected packages: ansi2html, jupyter-dash\n",
      "Successfully installed ansi2html-1.6.0 jupyter-dash-0.4.0\n",
      "Note: you may need to restart the kernel to use updated packages.\n"
     ]
    }
   ],
   "source": [
    "pip install jupyter_dash"
   ]
  },
  {
   "cell_type": "code",
   "execution_count": null,
   "id": "f937cfb2",
   "metadata": {},
   "outputs": [],
   "source": [
    "import dash_html_components as html\n",
    "import dash_leaflet as dl\n",
    "from dash import Dash\n",
    "from dash.dependencies import Input, Output\n",
    "\n",
    "app = Dash(prevent_initial_callbacks=True)\n",
    "app.layout = html.Div([\n",
    "    dl.Map([dl.TileLayer(), dl.LayerGroup(id=\"layer\")],\n",
    "           id=\"map\", style={'width': '100%', 'height': '50vh', 'margin': \"auto\", \"display\": \"block\"}),\n",
    "])\n",
    "\n",
    "\n",
    "@app.callback(Output(\"layer\", \"children\"), [Input(\"map\", \"click_lat_lng\")])\n",
    "def map_click(click_lat_lng):\n",
    "    return [dl.Marker(position=click_lat_lng, children=dl.Tooltip(\"({:.3f}, {:.3f})\".format(*click_lat_lng)))]\n",
    "\n",
    "\n",
    "app.run_server()"
   ]
  },
  {
   "cell_type": "code",
   "execution_count": 3,
   "id": "a518ea12",
   "metadata": {},
   "outputs": [
    {
     "ename": "ModuleNotFoundError",
     "evalue": "No module named 'jsbeautifier'",
     "output_type": "error",
     "traceback": [
      "\u001b[1;31m---------------------------------------------------------------------------\u001b[0m",
      "\u001b[1;31mModuleNotFoundError\u001b[0m                       Traceback (most recent call last)",
      "\u001b[1;32m<ipython-input-3-0ea22918906e>\u001b[0m in \u001b[0;36m<module>\u001b[1;34m\u001b[0m\n\u001b[0;32m      4\u001b[0m \u001b[1;32mfrom\u001b[0m \u001b[0mdash\u001b[0m \u001b[1;32mimport\u001b[0m \u001b[0mDash\u001b[0m\u001b[1;33m\u001b[0m\u001b[1;33m\u001b[0m\u001b[0m\n\u001b[0;32m      5\u001b[0m \u001b[1;32mfrom\u001b[0m \u001b[0mdash\u001b[0m\u001b[1;33m.\u001b[0m\u001b[0mdependencies\u001b[0m \u001b[1;32mimport\u001b[0m \u001b[0mOutput\u001b[0m\u001b[1;33m,\u001b[0m \u001b[0mInput\u001b[0m\u001b[1;33m\u001b[0m\u001b[1;33m\u001b[0m\u001b[0m\n\u001b[1;32m----> 6\u001b[1;33m \u001b[1;32mfrom\u001b[0m \u001b[0mdash_extensions\u001b[0m\u001b[1;33m.\u001b[0m\u001b[0mjavascript\u001b[0m \u001b[1;32mimport\u001b[0m \u001b[0marrow_function\u001b[0m\u001b[1;33m\u001b[0m\u001b[1;33m\u001b[0m\u001b[0m\n\u001b[0m\u001b[0;32m      7\u001b[0m \u001b[1;33m\u001b[0m\u001b[0m\n\u001b[0;32m      8\u001b[0m \u001b[1;31m# Generate some in-memory data.\u001b[0m\u001b[1;33m\u001b[0m\u001b[1;33m\u001b[0m\u001b[1;33m\u001b[0m\u001b[0m\n",
      "\u001b[1;32m~\\anaconda3\\lib\\site-packages\\dash_extensions\\javascript.py\u001b[0m in \u001b[0;36m<module>\u001b[1;34m\u001b[0m\n\u001b[0;32m      1\u001b[0m \u001b[1;32mimport\u001b[0m \u001b[0mos\u001b[0m\u001b[1;33m\u001b[0m\u001b[1;33m\u001b[0m\u001b[0m\n\u001b[1;32m----> 2\u001b[1;33m \u001b[1;32mimport\u001b[0m \u001b[0mjsbeautifier\u001b[0m\u001b[1;33m\u001b[0m\u001b[1;33m\u001b[0m\u001b[0m\n\u001b[0m\u001b[0;32m      3\u001b[0m \u001b[1;33m\u001b[0m\u001b[0m\n\u001b[0;32m      4\u001b[0m \u001b[1;31m# region Templates\u001b[0m\u001b[1;33m\u001b[0m\u001b[1;33m\u001b[0m\u001b[1;33m\u001b[0m\u001b[0m\n\u001b[0;32m      5\u001b[0m \u001b[1;33m\u001b[0m\u001b[0m\n",
      "\u001b[1;31mModuleNotFoundError\u001b[0m: No module named 'jsbeautifier'"
     ]
    }
   ],
   "source": [
    "import dash_html_components as html\n",
    "import dash_leaflet as dl\n",
    "import dash_leaflet.express as dlx\n",
    "from dash import Dash\n",
    "from dash.dependencies import Output, Input\n",
    "from dash_extensions.javascript import arrow_function\n",
    "\n",
    "# Generate some in-memory data.\n",
    "bermuda = dlx.dicts_to_geojson([dict(lat=32.299507, lon=-64.790337)])\n",
    "biosfera = dlx.geojson_to_geobuf(dlx.dicts_to_geojson([dict(lat=29.015, lon=-118.271)]))\n",
    "# Create example app.\n",
    "app = Dash()\n",
    "app.layout = html.Div([\n",
    "    dl.Map(center=[39, -98], zoom=4, children=[\n",
    "        dl.TileLayer(),\n",
    "        dl.GeoJSON(data=bermuda),  # in-memory geojson (slowest option)\n",
    "        dl.GeoJSON(data=biosfera, format=\"geobuf\"),  # in-memory geobuf (smaller payload than geojson)\n",
    "        dl.GeoJSON(url=\"/assets/us-state-capitals.json\", id=\"capitals\"),  # geojson resource (faster than in-memory)\n",
    "        dl.GeoJSON(url=\"/assets/us-states.pbf\", format=\"geobuf\", id=\"states\",\n",
    "                   hoverStyle=arrow_function(dict(weight=5, color='#666', dashArray=''))),  # geobuf resource (fastest option)\n",
    "    ], style={'width': '100%', 'height': '50vh', 'margin': \"auto\", \"display\": \"block\"}, id=\"map\"),\n",
    "    html.Div(id=\"state\"), html.Div(id=\"capital\")\n",
    "])\n",
    "\n",
    "\n",
    "@app.callback(Output(\"capital\", \"children\"), [Input(\"capitals\", \"click_feature\")])\n",
    "def capital_click(feature):\n",
    "    if feature is not None:\n",
    "        return f\"You clicked {feature['properties']['name']}\"\n",
    "\n",
    "\n",
    "@app.callback(Output(\"state\", \"children\"), [Input(\"states\", \"hover_feature\")])\n",
    "def state_hover(feature):\n",
    "    if feature is not None:\n",
    "        return f\"{feature['properties']['name']}\"\n",
    "\n",
    "\n",
    "app.run_server(host='127.0.0.1', port=64.790337, debug=True, mode='inline')"
   ]
  },
  {
   "cell_type": "code",
   "execution_count": 2,
   "id": "8d33ac88",
   "metadata": {},
   "outputs": [
    {
     "name": "stdout",
     "output_type": "stream",
     "text": [
      "Collecting dash_extensions\n",
      "  Downloading dash_extensions-0.0.60-py3-none-any.whl (1.8 MB)\n",
      "Collecting Flask-Caching\n",
      "  Downloading Flask_Caching-1.10.1-py3-none-any.whl (34 kB)\n",
      "Requirement already satisfied: more-itertools in c:\\users\\qaz27\\anaconda3\\lib\\site-packages (from dash_extensions) (8.7.0)\n",
      "Requirement already satisfied: dash in c:\\users\\qaz27\\anaconda3\\lib\\site-packages (from dash_extensions) (2.0.0)\n",
      "Requirement already satisfied: plotly>=5.0.0 in c:\\users\\qaz27\\anaconda3\\lib\\site-packages (from dash->dash_extensions) (5.3.1)\n",
      "Requirement already satisfied: Flask>=1.0.4 in c:\\users\\qaz27\\anaconda3\\lib\\site-packages (from dash->dash_extensions) (1.1.2)\n",
      "Requirement already satisfied: dash-core-components==2.0.0 in c:\\users\\qaz27\\anaconda3\\lib\\site-packages (from dash->dash_extensions) (2.0.0)\n",
      "Requirement already satisfied: dash-table==5.0.0 in c:\\users\\qaz27\\anaconda3\\lib\\site-packages (from dash->dash_extensions) (5.0.0)\n",
      "Requirement already satisfied: dash-html-components==2.0.0 in c:\\users\\qaz27\\anaconda3\\lib\\site-packages (from dash->dash_extensions) (2.0.0)\n",
      "Requirement already satisfied: flask-compress in c:\\users\\qaz27\\anaconda3\\lib\\site-packages (from dash->dash_extensions) (1.10.1)\n",
      "Requirement already satisfied: Werkzeug>=0.15 in c:\\users\\qaz27\\anaconda3\\lib\\site-packages (from Flask>=1.0.4->dash->dash_extensions) (1.0.1)\n",
      "Requirement already satisfied: Jinja2>=2.10.1 in c:\\users\\qaz27\\anaconda3\\lib\\site-packages (from Flask>=1.0.4->dash->dash_extensions) (2.11.3)\n",
      "Requirement already satisfied: click>=5.1 in c:\\users\\qaz27\\anaconda3\\lib\\site-packages (from Flask>=1.0.4->dash->dash_extensions) (7.1.2)\n",
      "Requirement already satisfied: itsdangerous>=0.24 in c:\\users\\qaz27\\anaconda3\\lib\\site-packages (from Flask>=1.0.4->dash->dash_extensions) (1.1.0)\n",
      "Requirement already satisfied: MarkupSafe>=0.23 in c:\\users\\qaz27\\anaconda3\\lib\\site-packages (from Jinja2>=2.10.1->Flask>=1.0.4->dash->dash_extensions) (1.1.1)\n",
      "Requirement already satisfied: tenacity>=6.2.0 in c:\\users\\qaz27\\anaconda3\\lib\\site-packages (from plotly>=5.0.0->dash->dash_extensions) (8.0.1)\n",
      "Requirement already satisfied: six in c:\\users\\qaz27\\anaconda3\\lib\\site-packages (from plotly>=5.0.0->dash->dash_extensions) (1.15.0)\n",
      "Requirement already satisfied: brotli in c:\\users\\qaz27\\anaconda3\\lib\\site-packages (from flask-compress->dash->dash_extensions) (1.0.9)\n",
      "Installing collected packages: Flask-Caching, dash-extensions\n",
      "Successfully installed Flask-Caching-1.10.1 dash-extensions-0.0.60\n",
      "Note: you may need to restart the kernel to use updated packages.\n"
     ]
    }
   ],
   "source": [
    "pip install dash_extensions"
   ]
  },
  {
   "cell_type": "code",
   "execution_count": null,
   "id": "24cd8d0c",
   "metadata": {},
   "outputs": [],
   "source": []
  }
 ],
 "metadata": {
  "kernelspec": {
   "display_name": "Python 3",
   "language": "python",
   "name": "python3"
  },
  "language_info": {
   "codemirror_mode": {
    "name": "ipython",
    "version": 3
   },
   "file_extension": ".py",
   "mimetype": "text/x-python",
   "name": "python",
   "nbconvert_exporter": "python",
   "pygments_lexer": "ipython3",
   "version": "3.8.8"
  }
 },
 "nbformat": 4,
 "nbformat_minor": 5
}
