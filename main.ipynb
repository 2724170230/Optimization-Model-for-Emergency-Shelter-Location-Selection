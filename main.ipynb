{
 "cells": [
  {
   "cell_type": "code",
   "execution_count": 15,
   "id": "ae6b4d68",
   "metadata": {},
   "outputs": [],
   "source": [
    "import pandas as pd\n",
    "import numpy as np\n",
    "import folium\n",
    "import os"
   ]
  },
  {
   "cell_type": "code",
   "execution_count": 9,
   "id": "eb01773a",
   "metadata": {},
   "outputs": [
    {
     "ename": "ConfigurationError",
     "evalue": "Since July 2018 Google requires each request to have an API key. Pass a valid `api_key` to GoogleV3 geocoder to fix this error. See https://developers.google.com/maps/documentation/geocoding/usage-and-billing",
     "output_type": "error",
     "traceback": [
      "\u001b[1;31m---------------------------------------------------------------------------\u001b[0m",
      "\u001b[1;31mConfigurationError\u001b[0m                        Traceback (most recent call last)",
      "\u001b[1;32m<ipython-input-9-566173fdbb77>\u001b[0m in \u001b[0;36m<module>\u001b[1;34m\u001b[0m\n\u001b[0;32m      1\u001b[0m \u001b[1;32mfrom\u001b[0m \u001b[0mgeopy\u001b[0m\u001b[1;33m.\u001b[0m\u001b[0mgeocoders\u001b[0m \u001b[1;32mimport\u001b[0m \u001b[0mGoogleV3\u001b[0m\u001b[1;33m\u001b[0m\u001b[1;33m\u001b[0m\u001b[0m\n\u001b[1;32m----> 2\u001b[1;33m \u001b[0mgeolocator\u001b[0m \u001b[1;33m=\u001b[0m \u001b[0mGoogleV3\u001b[0m\u001b[1;33m(\u001b[0m\u001b[1;33m)\u001b[0m\u001b[1;33m\u001b[0m\u001b[1;33m\u001b[0m\u001b[0m\n\u001b[0m\u001b[0;32m      3\u001b[0m \u001b[0mlocation\u001b[0m \u001b[1;33m=\u001b[0m \u001b[0mgeolocator\u001b[0m\u001b[1;33m.\u001b[0m\u001b[0mreverse\u001b[0m\u001b[1;33m(\u001b[0m\u001b[1;34m\"52.509669, 13.376294\"\u001b[0m\u001b[1;33m)\u001b[0m\u001b[1;33m\u001b[0m\u001b[1;33m\u001b[0m\u001b[0m\n\u001b[0;32m      4\u001b[0m \u001b[0mprint\u001b[0m\u001b[1;33m(\u001b[0m\u001b[0mlocation\u001b[0m\u001b[1;33m.\u001b[0m\u001b[0maddress\u001b[0m\u001b[1;33m)\u001b[0m\u001b[1;33m\u001b[0m\u001b[1;33m\u001b[0m\u001b[0m\n",
      "\u001b[1;32m~\\anaconda3\\lib\\site-packages\\geopy\\geocoders\\google.py\u001b[0m in \u001b[0;36m__init__\u001b[1;34m(self, api_key, domain, scheme, client_id, secret_key, timeout, proxies, user_agent, ssl_context, adapter_factory, channel)\u001b[0m\n\u001b[0;32m    111\u001b[0m \u001b[1;33m\u001b[0m\u001b[0m\n\u001b[0;32m    112\u001b[0m         \u001b[1;32mif\u001b[0m \u001b[1;32mnot\u001b[0m \u001b[0mself\u001b[0m\u001b[1;33m.\u001b[0m\u001b[0mpremier\u001b[0m \u001b[1;32mand\u001b[0m \u001b[1;32mnot\u001b[0m \u001b[0mapi_key\u001b[0m\u001b[1;33m:\u001b[0m\u001b[1;33m\u001b[0m\u001b[1;33m\u001b[0m\u001b[0m\n\u001b[1;32m--> 113\u001b[1;33m             raise ConfigurationError(\n\u001b[0m\u001b[0;32m    114\u001b[0m                 \u001b[1;34m'Since July 2018 Google requires each request to have an API key. '\u001b[0m\u001b[1;33m\u001b[0m\u001b[1;33m\u001b[0m\u001b[0m\n\u001b[0;32m    115\u001b[0m                 \u001b[1;34m'Pass a valid `api_key` to GoogleV3 geocoder to fix this error. '\u001b[0m\u001b[1;33m\u001b[0m\u001b[1;33m\u001b[0m\u001b[0m\n",
      "\u001b[1;31mConfigurationError\u001b[0m: Since July 2018 Google requires each request to have an API key. Pass a valid `api_key` to GoogleV3 geocoder to fix this error. See https://developers.google.com/maps/documentation/geocoding/usage-and-billing"
     ]
    }
   ],
   "source": [
    "from geopy.geocoders import GoogleV3\n",
    "geolocator = GoogleV3()\n",
    "location = geolocator.reverse(\"52.509669, 13.376294\")\n",
    "print(location.address)\n",
    "locations = []\n",
    "point = input(\"Where (in the format of latitude, longitude) did disaster take place? (Enter q if you complete entering)\")\n",
    "while(point != \"q\"):\n",
    "    locations.append(point)\n",
    "    point = input(\"Where (in the format of latitude, longitude) did disaster take place? (Enter q if you complete entering)\")\n",
    "\n",
    "point = \"122.23123, 231.123123\"\n",
    "(a, b)= float(point.split(\", \")[0]), float(point.split(\", \")[1])\n",
    "(a, b)\n",
    "point = input(\"Where did disaster take place? (Enter q if you complete entering)\")\n",
    "print(type(point))"
   ]
  },
  {
   "cell_type": "code",
   "execution_count": 16,
   "id": "263ab75c",
   "metadata": {},
   "outputs": [
    {
     "name": "stdout",
     "output_type": "stream",
     "text": [
      "Where (in the format of County, State) did disaster take place? (Enter q if you complete entering)Del Norte, CA\n",
      "Where (in the format of County, State) did disaster take place? (Enter q if you complete entering)Humboldt, CA\n",
      "Where (in the format of County, State) did disaster take place? (Enter q if you complete entering)Mendocino, CA\n",
      "Where (in the format of County, State) did disaster take place? (Enter q if you complete entering)Trinity, CA\n",
      "Where (in the format of County, State) did disaster take place? (Enter q if you complete entering)Shasta, CA\n",
      "Where (in the format of County, State) did disaster take place? (Enter q if you complete entering)Siskiyou, CA\n",
      "Where (in the format of County, State) did disaster take place? (Enter q if you complete entering)q\n",
      "[['Del Norte', 'CA'], ['Humboldt', 'CA'], ['Mendocino', 'CA'], ['Trinity', 'CA'], ['Shasta', 'CA'], ['Siskiyou', 'CA']]\n"
     ]
    }
   ],
   "source": [
    "locations = []\n",
    "point = input(\"Where (in the format of County, State) did disaster take place? (Enter q if you complete entering)\")\n",
    "while(point != \"q\"):\n",
    "    locations.append(list(point.split(\", \")))\n",
    "    point = input(\"Where (in the format of County, State) did disaster take place? (Enter q if you complete entering)\")\n",
    "print(locations)"
   ]
  },
  {
   "cell_type": "code",
   "execution_count": 4,
   "id": "6f46b2f3",
   "metadata": {},
   "outputs": [],
   "source": [
    "# locations = [['Santa Clara', 'CA'], ['San Benito', 'CA'], ['Merced', 'CA'], ['Solano', 'CA'], ['Monterey', 'CA']]"
   ]
  },
  {
   "cell_type": "code",
   "execution_count": 17,
   "id": "91ce8952",
   "metadata": {},
   "outputs": [
    {
     "data": {
      "text/html": [
       "<div>\n",
       "<style scoped>\n",
       "    .dataframe tbody tr th:only-of-type {\n",
       "        vertical-align: middle;\n",
       "    }\n",
       "\n",
       "    .dataframe tbody tr th {\n",
       "        vertical-align: top;\n",
       "    }\n",
       "\n",
       "    .dataframe thead th {\n",
       "        text-align: right;\n",
       "    }\n",
       "</style>\n",
       "<table border=\"1\" class=\"dataframe\">\n",
       "  <thead>\n",
       "    <tr style=\"text-align: right;\">\n",
       "      <th></th>\n",
       "      <th>STATE</th>\n",
       "      <th>COUNTY</th>\n",
       "      <th>E_TOTPOP</th>\n",
       "      <th>Product</th>\n",
       "    </tr>\n",
       "  </thead>\n",
       "  <tbody>\n",
       "    <tr>\n",
       "      <th>0</th>\n",
       "      <td>SC</td>\n",
       "      <td>Abbeville</td>\n",
       "      <td>25100</td>\n",
       "      <td>49679</td>\n",
       "    </tr>\n",
       "    <tr>\n",
       "      <th>1</th>\n",
       "      <td>LA</td>\n",
       "      <td>Acadia</td>\n",
       "      <td>62031</td>\n",
       "      <td>110194</td>\n",
       "    </tr>\n",
       "    <tr>\n",
       "      <th>2</th>\n",
       "      <td>VA</td>\n",
       "      <td>Accomack</td>\n",
       "      <td>33162</td>\n",
       "      <td>45829</td>\n",
       "    </tr>\n",
       "    <tr>\n",
       "      <th>3</th>\n",
       "      <td>ID</td>\n",
       "      <td>Ada</td>\n",
       "      <td>409239</td>\n",
       "      <td>197684</td>\n",
       "    </tr>\n",
       "    <tr>\n",
       "      <th>4</th>\n",
       "      <td>IA</td>\n",
       "      <td>Adair</td>\n",
       "      <td>7543</td>\n",
       "      <td>3012</td>\n",
       "    </tr>\n",
       "  </tbody>\n",
       "</table>\n",
       "</div>"
      ],
      "text/plain": [
       "  STATE       COUNTY  E_TOTPOP  Product\n",
       "0     SC   Abbeville     25100    49679\n",
       "1     LA      Acadia     62031   110194\n",
       "2     VA    Accomack     33162    45829\n",
       "3     ID         Ada    409239   197684\n",
       "4     IA       Adair      7543     3012"
      ]
     },
     "execution_count": 17,
     "metadata": {},
     "output_type": "execute_result"
    }
   ],
   "source": [
    "svi = pd.read_csv(\"./data/svi_cleaned_with_state.csv\")\n",
    "svi.head()"
   ]
  },
  {
   "cell_type": "code",
   "execution_count": 18,
   "id": "331e5fc4",
   "metadata": {},
   "outputs": [],
   "source": [
    "svi.columns = ['STATE', 'COUNTY', 'E_TOTPOP', 'Product']"
   ]
  },
  {
   "cell_type": "code",
   "execution_count": 19,
   "id": "dbdb9fa3",
   "metadata": {},
   "outputs": [],
   "source": [
    "for location in locations:\n",
    "    location[0] = \" \" + location[0]\n",
    "    location.append(int(svi[(svi[\"COUNTY\"] == location[0]) & (svi['STATE'] == location[1])][\"Product\"]))"
   ]
  },
  {
   "cell_type": "code",
   "execution_count": 20,
   "id": "9a61a94c",
   "metadata": {},
   "outputs": [
    {
     "data": {
      "text/plain": [
       "[[' Del Norte', 'CA', 73995],\n",
       " [' Humboldt', 'CA', 85134],\n",
       " [' Mendocino', 'CA', 117130],\n",
       " [' Trinity', 'CA', 19009],\n",
       " [' Shasta', 'CA', 175402],\n",
       " [' Siskiyou', 'CA', 54435]]"
      ]
     },
     "execution_count": 20,
     "metadata": {},
     "output_type": "execute_result"
    }
   ],
   "source": [
    "locations"
   ]
  },
  {
   "cell_type": "code",
   "execution_count": 21,
   "id": "ec6f8028",
   "metadata": {},
   "outputs": [],
   "source": [
    "svi = pd.read_csv(\"./data/svi_cleaned_with_state_with_Longtitude_and_Latitude.csv\")"
   ]
  },
  {
   "cell_type": "code",
   "execution_count": 22,
   "id": "4b9b9598",
   "metadata": {},
   "outputs": [
    {
     "name": "stdout",
     "output_type": "stream",
     "text": [
      "[' Del Norte', 'CA', 73995]\n",
      "Del Norte\n",
      "[' Humboldt', 'CA', 85134]\n",
      "Humboldt\n",
      "[' Mendocino', 'CA', 117130]\n",
      "Mendocino\n",
      "[' Trinity', 'CA', 19009]\n",
      "Trinity\n",
      "[' Shasta', 'CA', 175402]\n",
      "Shasta\n",
      "[' Siskiyou', 'CA', 54435]\n",
      "Siskiyou\n"
     ]
    }
   ],
   "source": [
    "for location in locations:\n",
    "    print(location)\n",
    "    location[0] = location[0][1:]\n",
    "    print(location[0])\n",
    "    location.append([float(svi[(svi[\"County\"] == location[0]) & (svi['State'] == location[1])][\"Latitude (generated)\"]), -float(svi[(svi[\"County\"] == location[0]) & (svi['State'] == location[1])][\"Longitude (generated)\"])])"
   ]
  },
  {
   "cell_type": "code",
   "execution_count": 23,
   "id": "f625fad3",
   "metadata": {},
   "outputs": [
    {
     "data": {
      "text/plain": [
       "[['Del Norte', 'CA', 73995, [41.6916, 123.9049]],\n",
       " ['Humboldt', 'CA', 85134, [40.7376, 123.8951]],\n",
       " ['Mendocino', 'CA', 117130, [39.3833, 123.4391]],\n",
       " ['Trinity', 'CA', 19009, [40.6758, 123.1435]],\n",
       " ['Shasta', 'CA', 175402, [40.7366, 122.0189]],\n",
       " ['Siskiyou', 'CA', 54435, [41.5027, 122.5449]]]"
      ]
     },
     "execution_count": 23,
     "metadata": {},
     "output_type": "execute_result"
    }
   ],
   "source": [
    "locations"
   ]
  },
  {
   "cell_type": "code",
   "execution_count": 24,
   "id": "30f1a0fc",
   "metadata": {},
   "outputs": [],
   "source": [
    "with open('./txt/input.txt', 'w') as f:\n",
    "    for location in locations:\n",
    "        f.writelines(str(location[3][0])+\" \"+str(location[3][1])+\" \"+str(location[2])+\"\\n\")\n",
    "        "
   ]
  },
  {
   "cell_type": "code",
   "execution_count": 66,
   "id": "c1b8bbfc",
   "metadata": {},
   "outputs": [
    {
     "data": {
      "text/plain": [
       "1"
      ]
     },
     "execution_count": 66,
     "metadata": {},
     "output_type": "execute_result"
    }
   ],
   "source": [
    "os.system(\"./data/location.cpp\")"
   ]
  },
  {
   "cell_type": "code",
   "execution_count": 26,
   "id": "968eb773",
   "metadata": {},
   "outputs": [],
   "source": [
    "shelters = []\n",
    "for  line  in  open(\"./txt/output.txt\" ):  \n",
    "    shelters.append([float(line.split(\" \")[0]), -float(line.split(\" \")[1])])\n",
    "shelters \n"
   ]
  },
  {
   "cell_type": "code",
   "execution_count": 29,
   "id": "0ff4e84d",
   "metadata": {},
   "outputs": [
    {
     "data": {
      "text/html": [
       "<div style=\"width:100%;\"><div style=\"position:relative;width:100%;height:0;padding-bottom:60%;\"><span style=\"color:#565656\">Make this Notebook Trusted to load map: File -> Trust Notebook</span><iframe src=\"about:blank\" style=\"position:absolute;width:100%;height:100%;left:0;top:0;border:none !important;\" data-html=%3C%21DOCTYPE%20html%3E%0A%3Chead%3E%20%20%20%20%0A%20%20%20%20%3Cmeta%20http-equiv%3D%22content-type%22%20content%3D%22text/html%3B%20charset%3DUTF-8%22%20/%3E%0A%20%20%20%20%0A%20%20%20%20%20%20%20%20%3Cscript%3E%0A%20%20%20%20%20%20%20%20%20%20%20%20L_NO_TOUCH%20%3D%20false%3B%0A%20%20%20%20%20%20%20%20%20%20%20%20L_DISABLE_3D%20%3D%20false%3B%0A%20%20%20%20%20%20%20%20%3C/script%3E%0A%20%20%20%20%0A%20%20%20%20%3Cstyle%3Ehtml%2C%20body%20%7Bwidth%3A%20100%25%3Bheight%3A%20100%25%3Bmargin%3A%200%3Bpadding%3A%200%3B%7D%3C/style%3E%0A%20%20%20%20%3Cstyle%3E%23map%20%7Bposition%3Aabsolute%3Btop%3A0%3Bbottom%3A0%3Bright%3A0%3Bleft%3A0%3B%7D%3C/style%3E%0A%20%20%20%20%3Cscript%20src%3D%22https%3A//cdn.jsdelivr.net/npm/leaflet%401.6.0/dist/leaflet.js%22%3E%3C/script%3E%0A%20%20%20%20%3Cscript%20src%3D%22https%3A//code.jquery.com/jquery-1.12.4.min.js%22%3E%3C/script%3E%0A%20%20%20%20%3Cscript%20src%3D%22https%3A//maxcdn.bootstrapcdn.com/bootstrap/3.2.0/js/bootstrap.min.js%22%3E%3C/script%3E%0A%20%20%20%20%3Cscript%20src%3D%22https%3A//cdnjs.cloudflare.com/ajax/libs/Leaflet.awesome-markers/2.0.2/leaflet.awesome-markers.js%22%3E%3C/script%3E%0A%20%20%20%20%3Clink%20rel%3D%22stylesheet%22%20href%3D%22https%3A//cdn.jsdelivr.net/npm/leaflet%401.6.0/dist/leaflet.css%22/%3E%0A%20%20%20%20%3Clink%20rel%3D%22stylesheet%22%20href%3D%22https%3A//maxcdn.bootstrapcdn.com/bootstrap/3.2.0/css/bootstrap.min.css%22/%3E%0A%20%20%20%20%3Clink%20rel%3D%22stylesheet%22%20href%3D%22https%3A//maxcdn.bootstrapcdn.com/bootstrap/3.2.0/css/bootstrap-theme.min.css%22/%3E%0A%20%20%20%20%3Clink%20rel%3D%22stylesheet%22%20href%3D%22https%3A//maxcdn.bootstrapcdn.com/font-awesome/4.6.3/css/font-awesome.min.css%22/%3E%0A%20%20%20%20%3Clink%20rel%3D%22stylesheet%22%20href%3D%22https%3A//cdnjs.cloudflare.com/ajax/libs/Leaflet.awesome-markers/2.0.2/leaflet.awesome-markers.css%22/%3E%0A%20%20%20%20%3Clink%20rel%3D%22stylesheet%22%20href%3D%22https%3A//cdn.jsdelivr.net/gh/python-visualization/folium/folium/templates/leaflet.awesome.rotate.min.css%22/%3E%0A%20%20%20%20%0A%20%20%20%20%20%20%20%20%20%20%20%20%3Cmeta%20name%3D%22viewport%22%20content%3D%22width%3Ddevice-width%2C%0A%20%20%20%20%20%20%20%20%20%20%20%20%20%20%20%20initial-scale%3D1.0%2C%20maximum-scale%3D1.0%2C%20user-scalable%3Dno%22%20/%3E%0A%20%20%20%20%20%20%20%20%20%20%20%20%3Cstyle%3E%0A%20%20%20%20%20%20%20%20%20%20%20%20%20%20%20%20%23map_80913a2b944e47f18a4b19be70223ff7%20%7B%0A%20%20%20%20%20%20%20%20%20%20%20%20%20%20%20%20%20%20%20%20position%3A%20relative%3B%0A%20%20%20%20%20%20%20%20%20%20%20%20%20%20%20%20%20%20%20%20width%3A%20100.0%25%3B%0A%20%20%20%20%20%20%20%20%20%20%20%20%20%20%20%20%20%20%20%20height%3A%20100.0%25%3B%0A%20%20%20%20%20%20%20%20%20%20%20%20%20%20%20%20%20%20%20%20left%3A%200.0%25%3B%0A%20%20%20%20%20%20%20%20%20%20%20%20%20%20%20%20%20%20%20%20top%3A%200.0%25%3B%0A%20%20%20%20%20%20%20%20%20%20%20%20%20%20%20%20%7D%0A%20%20%20%20%20%20%20%20%20%20%20%20%3C/style%3E%0A%20%20%20%20%20%20%20%20%0A%3C/head%3E%0A%3Cbody%3E%20%20%20%20%0A%20%20%20%20%0A%20%20%20%20%20%20%20%20%20%20%20%20%3Cdiv%20class%3D%22folium-map%22%20id%3D%22map_80913a2b944e47f18a4b19be70223ff7%22%20%3E%3C/div%3E%0A%20%20%20%20%20%20%20%20%0A%3C/body%3E%0A%3Cscript%3E%20%20%20%20%0A%20%20%20%20%0A%20%20%20%20%20%20%20%20%20%20%20%20var%20map_80913a2b944e47f18a4b19be70223ff7%20%3D%20L.map%28%0A%20%20%20%20%20%20%20%20%20%20%20%20%20%20%20%20%22map_80913a2b944e47f18a4b19be70223ff7%22%2C%0A%20%20%20%20%20%20%20%20%20%20%20%20%20%20%20%20%7B%0A%20%20%20%20%20%20%20%20%20%20%20%20%20%20%20%20%20%20%20%20center%3A%20%5B40.5236%2C%20-100.675%5D%2C%0A%20%20%20%20%20%20%20%20%20%20%20%20%20%20%20%20%20%20%20%20crs%3A%20L.CRS.EPSG3857%2C%0A%20%20%20%20%20%20%20%20%20%20%20%20%20%20%20%20%20%20%20%20zoom%3A%204%2C%0A%20%20%20%20%20%20%20%20%20%20%20%20%20%20%20%20%20%20%20%20zoomControl%3A%20true%2C%0A%20%20%20%20%20%20%20%20%20%20%20%20%20%20%20%20%20%20%20%20preferCanvas%3A%20false%2C%0A%20%20%20%20%20%20%20%20%20%20%20%20%20%20%20%20%7D%0A%20%20%20%20%20%20%20%20%20%20%20%20%29%3B%0A%0A%20%20%20%20%20%20%20%20%20%20%20%20%0A%0A%20%20%20%20%20%20%20%20%0A%20%20%20%20%0A%20%20%20%20%20%20%20%20%20%20%20%20var%20tile_layer_ba2df7d127e44edfb35f4a30ed7575a1%20%3D%20L.tileLayer%28%0A%20%20%20%20%20%20%20%20%20%20%20%20%20%20%20%20%22https%3A//%7Bs%7D.tile.openstreetmap.org/%7Bz%7D/%7Bx%7D/%7By%7D.png%22%2C%0A%20%20%20%20%20%20%20%20%20%20%20%20%20%20%20%20%7B%22attribution%22%3A%20%22Data%20by%20%5Cu0026copy%3B%20%5Cu003ca%20href%3D%5C%22http%3A//openstreetmap.org%5C%22%5Cu003eOpenStreetMap%5Cu003c/a%5Cu003e%2C%20under%20%5Cu003ca%20href%3D%5C%22http%3A//www.openstreetmap.org/copyright%5C%22%5Cu003eODbL%5Cu003c/a%5Cu003e.%22%2C%20%22detectRetina%22%3A%20false%2C%20%22maxNativeZoom%22%3A%2018%2C%20%22maxZoom%22%3A%2018%2C%20%22minZoom%22%3A%200%2C%20%22noWrap%22%3A%20false%2C%20%22opacity%22%3A%201%2C%20%22subdomains%22%3A%20%22abc%22%2C%20%22tms%22%3A%20false%7D%0A%20%20%20%20%20%20%20%20%20%20%20%20%29.addTo%28map_80913a2b944e47f18a4b19be70223ff7%29%3B%0A%20%20%20%20%20%20%20%20%0A%20%20%20%20%0A%20%20%20%20%20%20%20%20%20%20%20%20var%20marker_52413dbf5bc643f49b7b82d043974160%20%3D%20L.marker%28%0A%20%20%20%20%20%20%20%20%20%20%20%20%20%20%20%20%5B41.6916%2C%20-123.9049%5D%2C%0A%20%20%20%20%20%20%20%20%20%20%20%20%20%20%20%20%7B%7D%0A%20%20%20%20%20%20%20%20%20%20%20%20%29.addTo%28map_80913a2b944e47f18a4b19be70223ff7%29%3B%0A%20%20%20%20%20%20%20%20%0A%20%20%20%20%0A%20%20%20%20%20%20%20%20%20%20%20%20var%20icon_2e04e17a800a44abb150034942b453d7%20%3D%20L.AwesomeMarkers.icon%28%0A%20%20%20%20%20%20%20%20%20%20%20%20%20%20%20%20%7B%22extraClasses%22%3A%20%22fa-rotate-0%22%2C%20%22icon%22%3A%20%22info-sign%22%2C%20%22iconColor%22%3A%20%22white%22%2C%20%22markerColor%22%3A%20%22red%22%2C%20%22prefix%22%3A%20%22glyphicon%22%7D%0A%20%20%20%20%20%20%20%20%20%20%20%20%29%3B%0A%20%20%20%20%20%20%20%20%20%20%20%20marker_52413dbf5bc643f49b7b82d043974160.setIcon%28icon_2e04e17a800a44abb150034942b453d7%29%3B%0A%20%20%20%20%20%20%20%20%0A%20%20%20%20%0A%20%20%20%20%20%20%20%20var%20popup_fde565c8ea2f431aa9fc239153072fde%20%3D%20L.popup%28%7B%22maxWidth%22%3A%20%22100%25%22%7D%29%3B%0A%0A%20%20%20%20%20%20%20%20%0A%20%20%20%20%20%20%20%20%20%20%20%20var%20html_9ce9bb8ace564864b2d6de58bdf0bc4b%20%3D%20%24%28%60%3Cdiv%20id%3D%22html_9ce9bb8ace564864b2d6de58bdf0bc4b%22%20style%3D%22width%3A%20100.0%25%3B%20height%3A%20100.0%25%3B%22%3EDisaster%20Area%3C/div%3E%60%29%5B0%5D%3B%0A%20%20%20%20%20%20%20%20%20%20%20%20popup_fde565c8ea2f431aa9fc239153072fde.setContent%28html_9ce9bb8ace564864b2d6de58bdf0bc4b%29%3B%0A%20%20%20%20%20%20%20%20%0A%0A%20%20%20%20%20%20%20%20marker_52413dbf5bc643f49b7b82d043974160.bindPopup%28popup_fde565c8ea2f431aa9fc239153072fde%29%0A%20%20%20%20%20%20%20%20%3B%0A%0A%20%20%20%20%20%20%20%20%0A%20%20%20%20%0A%20%20%20%20%0A%20%20%20%20%20%20%20%20%20%20%20%20var%20marker_6c55f71f75b54c6c89e659df901a37ec%20%3D%20L.marker%28%0A%20%20%20%20%20%20%20%20%20%20%20%20%20%20%20%20%5B40.7376%2C%20-123.8951%5D%2C%0A%20%20%20%20%20%20%20%20%20%20%20%20%20%20%20%20%7B%7D%0A%20%20%20%20%20%20%20%20%20%20%20%20%29.addTo%28map_80913a2b944e47f18a4b19be70223ff7%29%3B%0A%20%20%20%20%20%20%20%20%0A%20%20%20%20%0A%20%20%20%20%20%20%20%20%20%20%20%20var%20icon_0259fd4dd3fd412f8eeadc97dab505d4%20%3D%20L.AwesomeMarkers.icon%28%0A%20%20%20%20%20%20%20%20%20%20%20%20%20%20%20%20%7B%22extraClasses%22%3A%20%22fa-rotate-0%22%2C%20%22icon%22%3A%20%22info-sign%22%2C%20%22iconColor%22%3A%20%22white%22%2C%20%22markerColor%22%3A%20%22red%22%2C%20%22prefix%22%3A%20%22glyphicon%22%7D%0A%20%20%20%20%20%20%20%20%20%20%20%20%29%3B%0A%20%20%20%20%20%20%20%20%20%20%20%20marker_6c55f71f75b54c6c89e659df901a37ec.setIcon%28icon_0259fd4dd3fd412f8eeadc97dab505d4%29%3B%0A%20%20%20%20%20%20%20%20%0A%20%20%20%20%0A%20%20%20%20%20%20%20%20var%20popup_b080b5fb65fd4bf0978b272a20ee1a28%20%3D%20L.popup%28%7B%22maxWidth%22%3A%20%22100%25%22%7D%29%3B%0A%0A%20%20%20%20%20%20%20%20%0A%20%20%20%20%20%20%20%20%20%20%20%20var%20html_2f915123fe624541bd4f50261437c7ad%20%3D%20%24%28%60%3Cdiv%20id%3D%22html_2f915123fe624541bd4f50261437c7ad%22%20style%3D%22width%3A%20100.0%25%3B%20height%3A%20100.0%25%3B%22%3EDisaster%20Area%3C/div%3E%60%29%5B0%5D%3B%0A%20%20%20%20%20%20%20%20%20%20%20%20popup_b080b5fb65fd4bf0978b272a20ee1a28.setContent%28html_2f915123fe624541bd4f50261437c7ad%29%3B%0A%20%20%20%20%20%20%20%20%0A%0A%20%20%20%20%20%20%20%20marker_6c55f71f75b54c6c89e659df901a37ec.bindPopup%28popup_b080b5fb65fd4bf0978b272a20ee1a28%29%0A%20%20%20%20%20%20%20%20%3B%0A%0A%20%20%20%20%20%20%20%20%0A%20%20%20%20%0A%20%20%20%20%0A%20%20%20%20%20%20%20%20%20%20%20%20var%20marker_6fca2b06445c4512aaed69b287b9dc0a%20%3D%20L.marker%28%0A%20%20%20%20%20%20%20%20%20%20%20%20%20%20%20%20%5B39.3833%2C%20-123.4391%5D%2C%0A%20%20%20%20%20%20%20%20%20%20%20%20%20%20%20%20%7B%7D%0A%20%20%20%20%20%20%20%20%20%20%20%20%29.addTo%28map_80913a2b944e47f18a4b19be70223ff7%29%3B%0A%20%20%20%20%20%20%20%20%0A%20%20%20%20%0A%20%20%20%20%20%20%20%20%20%20%20%20var%20icon_c51c49ecfcbf4dbf96eba411900d3f11%20%3D%20L.AwesomeMarkers.icon%28%0A%20%20%20%20%20%20%20%20%20%20%20%20%20%20%20%20%7B%22extraClasses%22%3A%20%22fa-rotate-0%22%2C%20%22icon%22%3A%20%22info-sign%22%2C%20%22iconColor%22%3A%20%22white%22%2C%20%22markerColor%22%3A%20%22red%22%2C%20%22prefix%22%3A%20%22glyphicon%22%7D%0A%20%20%20%20%20%20%20%20%20%20%20%20%29%3B%0A%20%20%20%20%20%20%20%20%20%20%20%20marker_6fca2b06445c4512aaed69b287b9dc0a.setIcon%28icon_c51c49ecfcbf4dbf96eba411900d3f11%29%3B%0A%20%20%20%20%20%20%20%20%0A%20%20%20%20%0A%20%20%20%20%20%20%20%20var%20popup_a2170ca93f25469fb4dda78874da8b97%20%3D%20L.popup%28%7B%22maxWidth%22%3A%20%22100%25%22%7D%29%3B%0A%0A%20%20%20%20%20%20%20%20%0A%20%20%20%20%20%20%20%20%20%20%20%20var%20html_70c9ea2cfa7548aa83e9841972e6beed%20%3D%20%24%28%60%3Cdiv%20id%3D%22html_70c9ea2cfa7548aa83e9841972e6beed%22%20style%3D%22width%3A%20100.0%25%3B%20height%3A%20100.0%25%3B%22%3EDisaster%20Area%3C/div%3E%60%29%5B0%5D%3B%0A%20%20%20%20%20%20%20%20%20%20%20%20popup_a2170ca93f25469fb4dda78874da8b97.setContent%28html_70c9ea2cfa7548aa83e9841972e6beed%29%3B%0A%20%20%20%20%20%20%20%20%0A%0A%20%20%20%20%20%20%20%20marker_6fca2b06445c4512aaed69b287b9dc0a.bindPopup%28popup_a2170ca93f25469fb4dda78874da8b97%29%0A%20%20%20%20%20%20%20%20%3B%0A%0A%20%20%20%20%20%20%20%20%0A%20%20%20%20%0A%20%20%20%20%0A%20%20%20%20%20%20%20%20%20%20%20%20var%20marker_e680e1833a1a45018adb04eda9597e94%20%3D%20L.marker%28%0A%20%20%20%20%20%20%20%20%20%20%20%20%20%20%20%20%5B40.6758%2C%20-123.1435%5D%2C%0A%20%20%20%20%20%20%20%20%20%20%20%20%20%20%20%20%7B%7D%0A%20%20%20%20%20%20%20%20%20%20%20%20%29.addTo%28map_80913a2b944e47f18a4b19be70223ff7%29%3B%0A%20%20%20%20%20%20%20%20%0A%20%20%20%20%0A%20%20%20%20%20%20%20%20%20%20%20%20var%20icon_43874f2b182e4dacb484340497412d4a%20%3D%20L.AwesomeMarkers.icon%28%0A%20%20%20%20%20%20%20%20%20%20%20%20%20%20%20%20%7B%22extraClasses%22%3A%20%22fa-rotate-0%22%2C%20%22icon%22%3A%20%22info-sign%22%2C%20%22iconColor%22%3A%20%22white%22%2C%20%22markerColor%22%3A%20%22red%22%2C%20%22prefix%22%3A%20%22glyphicon%22%7D%0A%20%20%20%20%20%20%20%20%20%20%20%20%29%3B%0A%20%20%20%20%20%20%20%20%20%20%20%20marker_e680e1833a1a45018adb04eda9597e94.setIcon%28icon_43874f2b182e4dacb484340497412d4a%29%3B%0A%20%20%20%20%20%20%20%20%0A%20%20%20%20%0A%20%20%20%20%20%20%20%20var%20popup_f893b3ab459d4abea4362666cc77888d%20%3D%20L.popup%28%7B%22maxWidth%22%3A%20%22100%25%22%7D%29%3B%0A%0A%20%20%20%20%20%20%20%20%0A%20%20%20%20%20%20%20%20%20%20%20%20var%20html_0c120f4d8132437e926724d65a0ade2f%20%3D%20%24%28%60%3Cdiv%20id%3D%22html_0c120f4d8132437e926724d65a0ade2f%22%20style%3D%22width%3A%20100.0%25%3B%20height%3A%20100.0%25%3B%22%3EDisaster%20Area%3C/div%3E%60%29%5B0%5D%3B%0A%20%20%20%20%20%20%20%20%20%20%20%20popup_f893b3ab459d4abea4362666cc77888d.setContent%28html_0c120f4d8132437e926724d65a0ade2f%29%3B%0A%20%20%20%20%20%20%20%20%0A%0A%20%20%20%20%20%20%20%20marker_e680e1833a1a45018adb04eda9597e94.bindPopup%28popup_f893b3ab459d4abea4362666cc77888d%29%0A%20%20%20%20%20%20%20%20%3B%0A%0A%20%20%20%20%20%20%20%20%0A%20%20%20%20%0A%20%20%20%20%0A%20%20%20%20%20%20%20%20%20%20%20%20var%20marker_1b8b717a0ec94a69a44adc7f4d8892ef%20%3D%20L.marker%28%0A%20%20%20%20%20%20%20%20%20%20%20%20%20%20%20%20%5B40.7366%2C%20-122.0189%5D%2C%0A%20%20%20%20%20%20%20%20%20%20%20%20%20%20%20%20%7B%7D%0A%20%20%20%20%20%20%20%20%20%20%20%20%29.addTo%28map_80913a2b944e47f18a4b19be70223ff7%29%3B%0A%20%20%20%20%20%20%20%20%0A%20%20%20%20%0A%20%20%20%20%20%20%20%20%20%20%20%20var%20icon_85bd8c22a5dc439297bcc7cc083ebfc1%20%3D%20L.AwesomeMarkers.icon%28%0A%20%20%20%20%20%20%20%20%20%20%20%20%20%20%20%20%7B%22extraClasses%22%3A%20%22fa-rotate-0%22%2C%20%22icon%22%3A%20%22info-sign%22%2C%20%22iconColor%22%3A%20%22white%22%2C%20%22markerColor%22%3A%20%22red%22%2C%20%22prefix%22%3A%20%22glyphicon%22%7D%0A%20%20%20%20%20%20%20%20%20%20%20%20%29%3B%0A%20%20%20%20%20%20%20%20%20%20%20%20marker_1b8b717a0ec94a69a44adc7f4d8892ef.setIcon%28icon_85bd8c22a5dc439297bcc7cc083ebfc1%29%3B%0A%20%20%20%20%20%20%20%20%0A%20%20%20%20%0A%20%20%20%20%20%20%20%20var%20popup_72f0bb7cfd564f50bcee98ab19d032dd%20%3D%20L.popup%28%7B%22maxWidth%22%3A%20%22100%25%22%7D%29%3B%0A%0A%20%20%20%20%20%20%20%20%0A%20%20%20%20%20%20%20%20%20%20%20%20var%20html_743a0874ef2d4037b494484f4d74af2e%20%3D%20%24%28%60%3Cdiv%20id%3D%22html_743a0874ef2d4037b494484f4d74af2e%22%20style%3D%22width%3A%20100.0%25%3B%20height%3A%20100.0%25%3B%22%3EDisaster%20Area%3C/div%3E%60%29%5B0%5D%3B%0A%20%20%20%20%20%20%20%20%20%20%20%20popup_72f0bb7cfd564f50bcee98ab19d032dd.setContent%28html_743a0874ef2d4037b494484f4d74af2e%29%3B%0A%20%20%20%20%20%20%20%20%0A%0A%20%20%20%20%20%20%20%20marker_1b8b717a0ec94a69a44adc7f4d8892ef.bindPopup%28popup_72f0bb7cfd564f50bcee98ab19d032dd%29%0A%20%20%20%20%20%20%20%20%3B%0A%0A%20%20%20%20%20%20%20%20%0A%20%20%20%20%0A%20%20%20%20%0A%20%20%20%20%20%20%20%20%20%20%20%20var%20marker_ca61027e14e644b59060ebddc947282a%20%3D%20L.marker%28%0A%20%20%20%20%20%20%20%20%20%20%20%20%20%20%20%20%5B41.5027%2C%20-122.5449%5D%2C%0A%20%20%20%20%20%20%20%20%20%20%20%20%20%20%20%20%7B%7D%0A%20%20%20%20%20%20%20%20%20%20%20%20%29.addTo%28map_80913a2b944e47f18a4b19be70223ff7%29%3B%0A%20%20%20%20%20%20%20%20%0A%20%20%20%20%0A%20%20%20%20%20%20%20%20%20%20%20%20var%20icon_a346164eb3ce48a083487cec56c6d364%20%3D%20L.AwesomeMarkers.icon%28%0A%20%20%20%20%20%20%20%20%20%20%20%20%20%20%20%20%7B%22extraClasses%22%3A%20%22fa-rotate-0%22%2C%20%22icon%22%3A%20%22info-sign%22%2C%20%22iconColor%22%3A%20%22white%22%2C%20%22markerColor%22%3A%20%22red%22%2C%20%22prefix%22%3A%20%22glyphicon%22%7D%0A%20%20%20%20%20%20%20%20%20%20%20%20%29%3B%0A%20%20%20%20%20%20%20%20%20%20%20%20marker_ca61027e14e644b59060ebddc947282a.setIcon%28icon_a346164eb3ce48a083487cec56c6d364%29%3B%0A%20%20%20%20%20%20%20%20%0A%20%20%20%20%0A%20%20%20%20%20%20%20%20var%20popup_9ffbcc0fb32c497581b77f026fdd73a1%20%3D%20L.popup%28%7B%22maxWidth%22%3A%20%22100%25%22%7D%29%3B%0A%0A%20%20%20%20%20%20%20%20%0A%20%20%20%20%20%20%20%20%20%20%20%20var%20html_150304690a1746ec9f530106ca45c8f9%20%3D%20%24%28%60%3Cdiv%20id%3D%22html_150304690a1746ec9f530106ca45c8f9%22%20style%3D%22width%3A%20100.0%25%3B%20height%3A%20100.0%25%3B%22%3EDisaster%20Area%3C/div%3E%60%29%5B0%5D%3B%0A%20%20%20%20%20%20%20%20%20%20%20%20popup_9ffbcc0fb32c497581b77f026fdd73a1.setContent%28html_150304690a1746ec9f530106ca45c8f9%29%3B%0A%20%20%20%20%20%20%20%20%0A%0A%20%20%20%20%20%20%20%20marker_ca61027e14e644b59060ebddc947282a.bindPopup%28popup_9ffbcc0fb32c497581b77f026fdd73a1%29%0A%20%20%20%20%20%20%20%20%3B%0A%0A%20%20%20%20%20%20%20%20%0A%20%20%20%20%0A%20%20%20%20%0A%20%20%20%20%20%20%20%20%20%20%20%20var%20marker_bc470cf78738423e9d6809b223db703f%20%3D%20L.marker%28%0A%20%20%20%20%20%20%20%20%20%20%20%20%20%20%20%20%5B40.7033%2C%20-122.929%5D%2C%0A%20%20%20%20%20%20%20%20%20%20%20%20%20%20%20%20%7B%7D%0A%20%20%20%20%20%20%20%20%20%20%20%20%29.addTo%28map_80913a2b944e47f18a4b19be70223ff7%29%3B%0A%20%20%20%20%20%20%20%20%0A%20%20%20%20%0A%20%20%20%20%20%20%20%20%20%20%20%20var%20icon_7fbeb8b8de614a41a586647abf44c5fc%20%3D%20L.AwesomeMarkers.icon%28%0A%20%20%20%20%20%20%20%20%20%20%20%20%20%20%20%20%7B%22extraClasses%22%3A%20%22fa-rotate-0%22%2C%20%22icon%22%3A%20%22info-sign%22%2C%20%22iconColor%22%3A%20%22white%22%2C%20%22markerColor%22%3A%20%22blue%22%2C%20%22prefix%22%3A%20%22glyphicon%22%7D%0A%20%20%20%20%20%20%20%20%20%20%20%20%29%3B%0A%20%20%20%20%20%20%20%20%20%20%20%20marker_bc470cf78738423e9d6809b223db703f.setIcon%28icon_7fbeb8b8de614a41a586647abf44c5fc%29%3B%0A%20%20%20%20%20%20%20%20%0A%20%20%20%20%0A%20%20%20%20%20%20%20%20var%20popup_7d51dc74c5a848d3aa60d62f3a90a086%20%3D%20L.popup%28%7B%22maxWidth%22%3A%20%22100%25%22%7D%29%3B%0A%0A%20%20%20%20%20%20%20%20%0A%20%20%20%20%20%20%20%20%20%20%20%20var%20html_495cb4fec1af4c379e7665deef3c4b07%20%3D%20%24%28%60%3Cdiv%20id%3D%22html_495cb4fec1af4c379e7665deef3c4b07%22%20style%3D%22width%3A%20100.0%25%3B%20height%3A%20100.0%25%3B%22%3EShelter%3C/div%3E%60%29%5B0%5D%3B%0A%20%20%20%20%20%20%20%20%20%20%20%20popup_7d51dc74c5a848d3aa60d62f3a90a086.setContent%28html_495cb4fec1af4c379e7665deef3c4b07%29%3B%0A%20%20%20%20%20%20%20%20%0A%0A%20%20%20%20%20%20%20%20marker_bc470cf78738423e9d6809b223db703f.bindPopup%28popup_7d51dc74c5a848d3aa60d62f3a90a086%29%0A%20%20%20%20%20%20%20%20%3B%0A%0A%20%20%20%20%20%20%20%20%0A%20%20%20%20%0A%20%20%20%20%0A%20%20%20%20%20%20%20%20%20%20%20%20%20%20%20%20var%20lat_lng_popup_0b18c6e4390c467e82bcf724a934a2e0%20%3D%20L.popup%28%29%3B%0A%20%20%20%20%20%20%20%20%20%20%20%20%20%20%20%20function%20latLngPop%28e%29%20%7B%0A%20%20%20%20%20%20%20%20%20%20%20%20%20%20%20%20%20%20%20%20lat_lng_popup_0b18c6e4390c467e82bcf724a934a2e0%0A%20%20%20%20%20%20%20%20%20%20%20%20%20%20%20%20%20%20%20%20%20%20%20%20.setLatLng%28e.latlng%29%0A%20%20%20%20%20%20%20%20%20%20%20%20%20%20%20%20%20%20%20%20%20%20%20%20.setContent%28%22Latitude%3A%20%22%20%2B%20e.latlng.lat.toFixed%284%29%20%2B%0A%20%20%20%20%20%20%20%20%20%20%20%20%20%20%20%20%20%20%20%20%20%20%20%20%20%20%20%20%20%20%20%20%20%20%20%20%22%3Cbr%3ELongitude%3A%20%22%20%2B%20e.latlng.lng.toFixed%284%29%29%0A%20%20%20%20%20%20%20%20%20%20%20%20%20%20%20%20%20%20%20%20%20%20%20%20.openOn%28map_80913a2b944e47f18a4b19be70223ff7%29%3B%0A%20%20%20%20%20%20%20%20%20%20%20%20%20%20%20%20%20%20%20%20%7D%0A%20%20%20%20%20%20%20%20%20%20%20%20%20%20%20%20map_80913a2b944e47f18a4b19be70223ff7.on%28%27click%27%2C%20latLngPop%29%3B%0A%20%20%20%20%20%20%20%20%20%20%20%20%0A%3C/script%3E onload=\"this.contentDocument.open();this.contentDocument.write(    decodeURIComponent(this.getAttribute('data-html')));this.contentDocument.close();\" allowfullscreen webkitallowfullscreen mozallowfullscreen></iframe></div></div>"
      ],
      "text/plain": [
       "<folium.folium.Map at 0x22b6a448eb0>"
      ]
     },
     "execution_count": 29,
     "metadata": {},
     "output_type": "execute_result"
    }
   ],
   "source": [
    "m = folium.Map(location=[40.5236, -100.6750], zoom_start=4)\n",
    "for location in locations:\n",
    "    folium.Marker(\n",
    "        location = [location[3][0], -location[3][1]],\n",
    "        popup = \"Disaster Area\",\n",
    "        icon = folium.Icon(color = \"red\")\n",
    "    ).add_to(m)\n",
    "for shelter in shelters:\n",
    "    folium.Marker(\n",
    "        location = [shelter[0], shelter[1]],\n",
    "        popup = \"Shelter\",\n",
    "        icon = folium.Icon(color = \"blue\")\n",
    "    ).add_to(m)\n",
    "    \n",
    "    \n",
    "m.add_child(folium.LatLngPopup())\n",
    "m"
   ]
  },
  {
   "cell_type": "code",
   "execution_count": 91,
   "id": "0fd05409",
   "metadata": {},
   "outputs": [
    {
     "ename": "ValueError",
     "evalue": "All values are expected to fall into one of the provided bins (or to be Nan). Please check the `bins` parameter and/or your data.",
     "output_type": "error",
     "traceback": [
      "\u001b[1;31m---------------------------------------------------------------------------\u001b[0m",
      "\u001b[1;31mValueError\u001b[0m                                Traceback (most recent call last)",
      "\u001b[1;32m<ipython-input-91-c6b9f9075620>\u001b[0m in \u001b[0;36m<module>\u001b[1;34m\u001b[0m\n\u001b[0;32m     10\u001b[0m \u001b[0mhigh_res_county_geo\u001b[0m \u001b[1;33m=\u001b[0m \u001b[0mos\u001b[0m\u001b[1;33m.\u001b[0m\u001b[0mpath\u001b[0m\u001b[1;33m.\u001b[0m\u001b[0mrelpath\u001b[0m\u001b[1;33m(\u001b[0m\u001b[1;34m'./gz_2010_us_050_00_500k.json'\u001b[0m\u001b[1;33m)\u001b[0m \u001b[1;31m# from http://eric.clst.org/Stuff/USGeoJSON\u001b[0m\u001b[1;33m\u001b[0m\u001b[1;33m\u001b[0m\u001b[0m\n\u001b[0;32m     11\u001b[0m \u001b[1;31m# Add choropleth layer\u001b[0m\u001b[1;33m\u001b[0m\u001b[1;33m\u001b[0m\u001b[1;33m\u001b[0m\u001b[0m\n\u001b[1;32m---> 12\u001b[1;33m map_1.choropleth(\n\u001b[0m\u001b[0;32m     13\u001b[0m  \u001b[0mgeo_data\u001b[0m\u001b[1;33m=\u001b[0m\u001b[1;34m'./gz_2010_us_040_00_500k.json'\u001b[0m\u001b[1;33m,\u001b[0m\u001b[1;33m\u001b[0m\u001b[1;33m\u001b[0m\u001b[0m\n\u001b[0;32m     14\u001b[0m  \u001b[0mname\u001b[0m\u001b[1;33m=\u001b[0m\u001b[1;34m'choropleth'\u001b[0m\u001b[1;33m,\u001b[0m\u001b[1;33m\u001b[0m\u001b[1;33m\u001b[0m\u001b[0m\n",
      "\u001b[1;32m~\\anaconda3\\lib\\site-packages\\folium\\folium.py\u001b[0m in \u001b[0;36mchoropleth\u001b[1;34m(self, *args, **kwargs)\u001b[0m\n\u001b[0;32m    414\u001b[0m         )\n\u001b[0;32m    415\u001b[0m         \u001b[1;32mfrom\u001b[0m \u001b[0mfolium\u001b[0m\u001b[1;33m.\u001b[0m\u001b[0mfeatures\u001b[0m \u001b[1;32mimport\u001b[0m \u001b[0mChoropleth\u001b[0m\u001b[1;33m\u001b[0m\u001b[1;33m\u001b[0m\u001b[0m\n\u001b[1;32m--> 416\u001b[1;33m         \u001b[0mself\u001b[0m\u001b[1;33m.\u001b[0m\u001b[0madd_child\u001b[0m\u001b[1;33m(\u001b[0m\u001b[0mChoropleth\u001b[0m\u001b[1;33m(\u001b[0m\u001b[1;33m*\u001b[0m\u001b[0margs\u001b[0m\u001b[1;33m,\u001b[0m \u001b[1;33m**\u001b[0m\u001b[0mkwargs\u001b[0m\u001b[1;33m)\u001b[0m\u001b[1;33m)\u001b[0m\u001b[1;33m\u001b[0m\u001b[1;33m\u001b[0m\u001b[0m\n\u001b[0m\u001b[0;32m    417\u001b[0m \u001b[1;33m\u001b[0m\u001b[0m\n\u001b[0;32m    418\u001b[0m     \u001b[1;32mdef\u001b[0m \u001b[0mkeep_in_front\u001b[0m\u001b[1;33m(\u001b[0m\u001b[0mself\u001b[0m\u001b[1;33m,\u001b[0m \u001b[1;33m*\u001b[0m\u001b[0margs\u001b[0m\u001b[1;33m)\u001b[0m\u001b[1;33m:\u001b[0m\u001b[1;33m\u001b[0m\u001b[1;33m\u001b[0m\u001b[0m\n",
      "\u001b[1;32m~\\anaconda3\\lib\\site-packages\\folium\\features.py\u001b[0m in \u001b[0;36m__init__\u001b[1;34m(self, geo_data, data, columns, key_on, bins, fill_color, nan_fill_color, fill_opacity, nan_fill_opacity, line_color, line_weight, line_opacity, name, legend_name, overlay, control, show, topojson, smooth_factor, highlight, **kwargs)\u001b[0m\n\u001b[0;32m   1219\u001b[0m             \u001b[0mbins_min\u001b[0m\u001b[1;33m,\u001b[0m \u001b[0mbins_max\u001b[0m \u001b[1;33m=\u001b[0m \u001b[0mmin\u001b[0m\u001b[1;33m(\u001b[0m\u001b[0mbin_edges\u001b[0m\u001b[1;33m)\u001b[0m\u001b[1;33m,\u001b[0m \u001b[0mmax\u001b[0m\u001b[1;33m(\u001b[0m\u001b[0mbin_edges\u001b[0m\u001b[1;33m)\u001b[0m\u001b[1;33m\u001b[0m\u001b[1;33m\u001b[0m\u001b[0m\n\u001b[0;32m   1220\u001b[0m             \u001b[1;32mif\u001b[0m \u001b[0mnp\u001b[0m\u001b[1;33m.\u001b[0m\u001b[0many\u001b[0m\u001b[1;33m(\u001b[0m\u001b[1;33m(\u001b[0m\u001b[0mreal_values\u001b[0m \u001b[1;33m<\u001b[0m \u001b[0mbins_min\u001b[0m\u001b[1;33m)\u001b[0m \u001b[1;33m|\u001b[0m \u001b[1;33m(\u001b[0m\u001b[0mreal_values\u001b[0m \u001b[1;33m>\u001b[0m \u001b[0mbins_max\u001b[0m\u001b[1;33m)\u001b[0m\u001b[1;33m)\u001b[0m\u001b[1;33m:\u001b[0m\u001b[1;33m\u001b[0m\u001b[1;33m\u001b[0m\u001b[0m\n\u001b[1;32m-> 1221\u001b[1;33m                 raise ValueError(\n\u001b[0m\u001b[0;32m   1222\u001b[0m                     \u001b[1;34m'All values are expected to fall into one of the provided '\u001b[0m\u001b[1;33m\u001b[0m\u001b[1;33m\u001b[0m\u001b[0m\n\u001b[0;32m   1223\u001b[0m                     \u001b[1;34m'bins (or to be Nan). Please check the `bins` parameter '\u001b[0m\u001b[1;33m\u001b[0m\u001b[1;33m\u001b[0m\u001b[0m\n",
      "\u001b[1;31mValueError\u001b[0m: All values are expected to fall into one of the provided bins (or to be Nan). Please check the `bins` parameter and/or your data."
     ]
    }
   ],
   "source": [
    "import os\n",
    "import folium\n",
    "import pandas as pd\n",
    "# Load data\n",
    "data = pd.read_csv('./data/Disaster_cleaned_with_state_f.csv')\n",
    "# Add column with ratio of foreign born vs total pop.\n",
    "# data['ratio_foreign_born_vs_total_population'] = 100 * data['Estimate; Foreign born:'] / data['Estimate; Total:']\n",
    "# Create map\n",
    "map_1 = folium.Map(location=[39, -96], zoom_start=4)\n",
    "high_res_county_geo = os.path.relpath('./gz_2010_us_050_00_500k.json') # from http://eric.clst.org/Stuff/USGeoJSON\n",
    "# Add choropleth layer\n",
    "map_1.choropleth(\n",
    " geo_data='./gz_2010_us_040_00_500k.json',\n",
    " name='choropleth',\n",
    " data=data,\n",
    " columns=['county', 'Hurricane'],\n",
    " key_on='properties.GEO_ID',\n",
    " fill_color='YlGnBu',\n",
    " fill_opacity=0.8,\n",
    " line_opacity=0.05,\n",
    " legend_name='Disaster Frequency',\n",
    " threshold_scale=[2, 3, 3, 4, 6, 7, 9, 12, 18, 164],\n",
    ")\n",
    "folium.LayerControl().add_to(map_1)\n",
    "# Save as index.html\n",
    "map_1"
   ]
  },
  {
   "cell_type": "code",
   "execution_count": 93,
   "id": "b4264bbe",
   "metadata": {},
   "outputs": [
    {
     "name": "stdout",
     "output_type": "stream",
     "text": [
      "[ 47.5906525  -79.37562536]\n"
     ]
    },
    {
     "name": "stderr",
     "output_type": "stream",
     "text": [
      "C:\\Users\\qaz27\\anaconda3\\lib\\site-packages\\scipy\\optimize\\minpack.py:175: RuntimeWarning: The iteration is not making good progress, as measured by the \n",
      "  improvement from the last ten iterations.\n",
      "  warnings.warn(msg, RuntimeWarning)\n"
     ]
    }
   ],
   "source": [
    "from scipy.optimize import fsolve\n",
    " \n",
    "def solve_function(unsolved_value):\n",
    "    x,y=unsolved_value[0],unsolved_value[1]\n",
    "    return [\n",
    "        y+0.18*x+86,\n",
    "        (48-x)**2+(0.18*48-86-y)**2-1,\n",
    "    ]\n",
    " \n",
    "solved=fsolve(solve_function,[0, 0])\n",
    "print(solved)"
   ]
  },
  {
   "cell_type": "code",
   "execution_count": null,
   "id": "d309dff7",
   "metadata": {},
   "outputs": [],
   "source": []
  },
  {
   "cell_type": "code",
   "execution_count": null,
   "id": "09b48788",
   "metadata": {},
   "outputs": [],
   "source": []
  },
  {
   "cell_type": "code",
   "execution_count": null,
   "id": "c629c7ba",
   "metadata": {},
   "outputs": [],
   "source": []
  },
  {
   "cell_type": "code",
   "execution_count": null,
   "id": "8e845183",
   "metadata": {},
   "outputs": [],
   "source": []
  },
  {
   "cell_type": "code",
   "execution_count": null,
   "id": "e9747b41",
   "metadata": {},
   "outputs": [],
   "source": []
  },
  {
   "cell_type": "code",
   "execution_count": 28,
   "id": "0706b23b",
   "metadata": {},
   "outputs": [
    {
     "data": {
      "text/plain": [
       "[['ange', 'NC', 121353], [' Los Angeles', 'CA', 30162720]]"
      ]
     },
     "execution_count": 28,
     "metadata": {},
     "output_type": "execute_result"
    }
   ],
   "source": [
    "locations"
   ]
  },
  {
   "cell_type": "code",
   "execution_count": 25,
   "id": "b1a887f6",
   "metadata": {},
   "outputs": [],
   "source": [
    "svi = pd.read_csv(\"./data/svi_cleaned_with_state_with_Longtitude_and_Latitude.csv\")"
   ]
  },
  {
   "cell_type": "code",
   "execution_count": 27,
   "id": "b91d63fc",
   "metadata": {},
   "outputs": [
    {
     "data": {
      "text/plain": [
       "Index(['County', 'State', 'Latitude (generated)', 'Longitude (generated)',\n",
       "       'E Totpop'],\n",
       "      dtype='object')"
      ]
     },
     "execution_count": 27,
     "metadata": {},
     "output_type": "execute_result"
    }
   ],
   "source": [
    "svi.columns"
   ]
  },
  {
   "cell_type": "code",
   "execution_count": 43,
   "id": "5e8700cf",
   "metadata": {},
   "outputs": [],
   "source": [
    "locations[0][0] = \" Orange\""
   ]
  },
  {
   "cell_type": "code",
   "execution_count": 38,
   "id": "4bd683d3",
   "metadata": {},
   "outputs": [],
   "source": [
    "locations[0][0] = locations[0][0][1:]"
   ]
  },
  {
   "cell_type": "code",
   "execution_count": 33,
   "id": "f82c4397",
   "metadata": {},
   "outputs": [
    {
     "data": {
      "text/plain": [
       "'Orange'"
      ]
     },
     "execution_count": 33,
     "metadata": {},
     "output_type": "execute_result"
    }
   ],
   "source": [
    "locations[0][0]"
   ]
  },
  {
   "cell_type": "code",
   "execution_count": null,
   "id": "9631e590",
   "metadata": {},
   "outputs": [],
   "source": []
  },
  {
   "cell_type": "code",
   "execution_count": 35,
   "id": "18f169dd",
   "metadata": {},
   "outputs": [
    {
     "data": {
      "text/plain": [
       "(36.0541, 79.1222)"
      ]
     },
     "execution_count": 35,
     "metadata": {},
     "output_type": "execute_result"
    }
   ],
   "source": [
    "float(svi[(svi[\"County\"] == location[0]) & (svi['State'] == location[1])][\"Latitude (generated)\"]), -float(svi[(svi[\"County\"] == location[0]) & (svi['State'] == location[1])][\"Longitude (generated)\"])"
   ]
  },
  {
   "cell_type": "code",
   "execution_count": null,
   "id": "1e286711",
   "metadata": {},
   "outputs": [],
   "source": []
  },
  {
   "cell_type": "code",
   "execution_count": 44,
   "id": "70ccea9f",
   "metadata": {},
   "outputs": [
    {
     "name": "stdout",
     "output_type": "stream",
     "text": [
      "[' Orange', 'NC', 121353]\n",
      "Orange\n",
      "[' Los Angeles', 'CA', 30162720]\n",
      "Los Angeles\n"
     ]
    }
   ],
   "source": [
    "for location in locations:\n",
    "    print(location)\n",
    "    location[0] = location[0][1:]\n",
    "    print(location[0])\n",
    "    location.append([float(svi[(svi[\"County\"] == location[0]) & (svi['State'] == location[1])][\"Latitude (generated)\"]), -float(svi[(svi[\"County\"] == location[0]) & (svi['State'] == location[1])][\"Longitude (generated)\"])])"
   ]
  },
  {
   "cell_type": "code",
   "execution_count": null,
   "id": "29516c7d",
   "metadata": {},
   "outputs": [],
   "source": [
    "def delspace(locations):\n",
    "    for location in locations:\n",
    "    location[0] = location[0][1:]"
   ]
  },
  {
   "cell_type": "code",
   "execution_count": null,
   "id": "d0640637",
   "metadata": {},
   "outputs": [],
   "source": []
  },
  {
   "cell_type": "code",
   "execution_count": 150,
   "id": "8b528c8f",
   "metadata": {},
   "outputs": [],
   "source": [
    "svi.columns = ['STATE', 'COUNTY', 'E_TOTPOP', 'Product']"
   ]
  },
  {
   "cell_type": "code",
   "execution_count": 151,
   "id": "ce9e514b",
   "metadata": {},
   "outputs": [],
   "source": [
    "svi.COUNTY = svi.COUNTY[1:]"
   ]
  },
  {
   "cell_type": "code",
   "execution_count": 152,
   "id": "ebdcdd73",
   "metadata": {},
   "outputs": [
    {
     "data": {
      "text/html": [
       "<div>\n",
       "<style scoped>\n",
       "    .dataframe tbody tr th:only-of-type {\n",
       "        vertical-align: middle;\n",
       "    }\n",
       "\n",
       "    .dataframe tbody tr th {\n",
       "        vertical-align: top;\n",
       "    }\n",
       "\n",
       "    .dataframe thead th {\n",
       "        text-align: right;\n",
       "    }\n",
       "</style>\n",
       "<table border=\"1\" class=\"dataframe\">\n",
       "  <thead>\n",
       "    <tr style=\"text-align: right;\">\n",
       "      <th></th>\n",
       "      <th>STATE</th>\n",
       "      <th>COUNTY</th>\n",
       "      <th>E_TOTPOP</th>\n",
       "      <th>Product</th>\n",
       "    </tr>\n",
       "  </thead>\n",
       "  <tbody>\n",
       "    <tr>\n",
       "      <th>0</th>\n",
       "      <td>SC</td>\n",
       "      <td>NaN</td>\n",
       "      <td>25100</td>\n",
       "      <td>49679</td>\n",
       "    </tr>\n",
       "    <tr>\n",
       "      <th>1</th>\n",
       "      <td>LA</td>\n",
       "      <td>Acadia</td>\n",
       "      <td>62031</td>\n",
       "      <td>110194</td>\n",
       "    </tr>\n",
       "    <tr>\n",
       "      <th>2</th>\n",
       "      <td>VA</td>\n",
       "      <td>Accomack</td>\n",
       "      <td>33162</td>\n",
       "      <td>45829</td>\n",
       "    </tr>\n",
       "    <tr>\n",
       "      <th>3</th>\n",
       "      <td>ID</td>\n",
       "      <td>Ada</td>\n",
       "      <td>409239</td>\n",
       "      <td>197684</td>\n",
       "    </tr>\n",
       "    <tr>\n",
       "      <th>4</th>\n",
       "      <td>IA</td>\n",
       "      <td>Adair</td>\n",
       "      <td>7543</td>\n",
       "      <td>3012</td>\n",
       "    </tr>\n",
       "  </tbody>\n",
       "</table>\n",
       "</div>"
      ],
      "text/plain": [
       "  STATE     COUNTY  E_TOTPOP  Product\n",
       "0    SC        NaN     25100    49679\n",
       "1    LA     Acadia     62031   110194\n",
       "2    VA   Accomack     33162    45829\n",
       "3    ID        Ada    409239   197684\n",
       "4    IA      Adair      7543     3012"
      ]
     },
     "execution_count": 152,
     "metadata": {},
     "output_type": "execute_result"
    }
   ],
   "source": [
    "svi.head()"
   ]
  },
  {
   "cell_type": "code",
   "execution_count": null,
   "id": "fad872a5",
   "metadata": {},
   "outputs": [],
   "source": []
  },
  {
   "cell_type": "code",
   "execution_count": 153,
   "id": "0be608cd",
   "metadata": {},
   "outputs": [],
   "source": [
    "svi.replace(np.nan, \"Abbeville\", inplace=True)"
   ]
  },
  {
   "cell_type": "code",
   "execution_count": 15,
   "id": "b0d37a00",
   "metadata": {},
   "outputs": [],
   "source": [
    "location = [\" Acadia\", \"SC\"]"
   ]
  },
  {
   "cell_type": "code",
   "execution_count": 9,
   "id": "ed40ef75",
   "metadata": {},
   "outputs": [
    {
     "data": {
      "text/plain": [
       "Series([], Name: Product, dtype: int64)"
      ]
     },
     "execution_count": 9,
     "metadata": {},
     "output_type": "execute_result"
    }
   ],
   "source": [
    "svi[(svi[\"COUNTY\"] == location[0]) & (svi['STATE '] == location[1])][\"Product\"]"
   ]
  },
  {
   "cell_type": "code",
   "execution_count": 16,
   "id": "629a955c",
   "metadata": {},
   "outputs": [
    {
     "data": {
      "text/plain": [
       "0       False\n",
       "1        True\n",
       "2       False\n",
       "3       False\n",
       "4       False\n",
       "        ...  \n",
       "3137    False\n",
       "3138    False\n",
       "3139    False\n",
       "3140    False\n",
       "3141    False\n",
       "Name: COUNTY, Length: 3142, dtype: bool"
      ]
     },
     "execution_count": 16,
     "metadata": {},
     "output_type": "execute_result"
    }
   ],
   "source": [
    "svi[\"COUNTY\"] == location[0]"
   ]
  },
  {
   "cell_type": "code",
   "execution_count": null,
   "id": "2cf0a477",
   "metadata": {},
   "outputs": [],
   "source": []
  },
  {
   "cell_type": "code",
   "execution_count": null,
   "id": "50fbfd85",
   "metadata": {},
   "outputs": [],
   "source": []
  },
  {
   "cell_type": "code",
   "execution_count": null,
   "id": "e956e768",
   "metadata": {},
   "outputs": [],
   "source": []
  },
  {
   "cell_type": "code",
   "execution_count": 154,
   "id": "35c0091d",
   "metadata": {},
   "outputs": [
    {
     "ename": "TypeError",
     "evalue": "cannot convert the series to <class 'int'>",
     "output_type": "error",
     "traceback": [
      "\u001b[1;31m---------------------------------------------------------------------------\u001b[0m",
      "\u001b[1;31mTypeError\u001b[0m                                 Traceback (most recent call last)",
      "\u001b[1;32m<ipython-input-154-a55b1b38fdba>\u001b[0m in \u001b[0;36m<module>\u001b[1;34m\u001b[0m\n\u001b[0;32m      1\u001b[0m \u001b[1;32mfor\u001b[0m \u001b[0mlocation\u001b[0m \u001b[1;32min\u001b[0m \u001b[0mlocations\u001b[0m\u001b[1;33m:\u001b[0m\u001b[1;33m\u001b[0m\u001b[1;33m\u001b[0m\u001b[0m\n\u001b[0;32m      2\u001b[0m     \u001b[0mlocation\u001b[0m\u001b[1;33m[\u001b[0m\u001b[1;36m0\u001b[0m\u001b[1;33m]\u001b[0m \u001b[1;33m=\u001b[0m \u001b[1;34m\" \"\u001b[0m \u001b[1;33m+\u001b[0m \u001b[0mlocation\u001b[0m\u001b[1;33m[\u001b[0m\u001b[1;36m0\u001b[0m\u001b[1;33m]\u001b[0m\u001b[1;33m\u001b[0m\u001b[1;33m\u001b[0m\u001b[0m\n\u001b[1;32m----> 3\u001b[1;33m     \u001b[0mlocation\u001b[0m\u001b[1;33m.\u001b[0m\u001b[0mappend\u001b[0m\u001b[1;33m(\u001b[0m\u001b[0mint\u001b[0m\u001b[1;33m(\u001b[0m\u001b[0msvi\u001b[0m\u001b[1;33m[\u001b[0m\u001b[1;33m(\u001b[0m\u001b[0msvi\u001b[0m\u001b[1;33m[\u001b[0m\u001b[1;34m\"COUNTY\"\u001b[0m\u001b[1;33m]\u001b[0m \u001b[1;33m==\u001b[0m \u001b[0mlocation\u001b[0m\u001b[1;33m[\u001b[0m\u001b[1;36m0\u001b[0m\u001b[1;33m]\u001b[0m\u001b[1;33m)\u001b[0m \u001b[1;33m&\u001b[0m \u001b[1;33m(\u001b[0m\u001b[0msvi\u001b[0m\u001b[1;33m[\u001b[0m\u001b[1;34m'STATE'\u001b[0m\u001b[1;33m]\u001b[0m \u001b[1;33m==\u001b[0m \u001b[0mlocation\u001b[0m\u001b[1;33m[\u001b[0m\u001b[1;36m1\u001b[0m\u001b[1;33m]\u001b[0m\u001b[1;33m)\u001b[0m\u001b[1;33m]\u001b[0m\u001b[1;33m[\u001b[0m\u001b[1;34m\"Product\"\u001b[0m\u001b[1;33m]\u001b[0m\u001b[1;33m)\u001b[0m\u001b[1;33m)\u001b[0m\u001b[1;33m\u001b[0m\u001b[1;33m\u001b[0m\u001b[0m\n\u001b[0m",
      "\u001b[1;32m~\\anaconda3\\lib\\site-packages\\pandas\\core\\series.py\u001b[0m in \u001b[0;36mwrapper\u001b[1;34m(self)\u001b[0m\n\u001b[0;32m    139\u001b[0m         \u001b[1;32mif\u001b[0m \u001b[0mlen\u001b[0m\u001b[1;33m(\u001b[0m\u001b[0mself\u001b[0m\u001b[1;33m)\u001b[0m \u001b[1;33m==\u001b[0m \u001b[1;36m1\u001b[0m\u001b[1;33m:\u001b[0m\u001b[1;33m\u001b[0m\u001b[1;33m\u001b[0m\u001b[0m\n\u001b[0;32m    140\u001b[0m             \u001b[1;32mreturn\u001b[0m \u001b[0mconverter\u001b[0m\u001b[1;33m(\u001b[0m\u001b[0mself\u001b[0m\u001b[1;33m.\u001b[0m\u001b[0miloc\u001b[0m\u001b[1;33m[\u001b[0m\u001b[1;36m0\u001b[0m\u001b[1;33m]\u001b[0m\u001b[1;33m)\u001b[0m\u001b[1;33m\u001b[0m\u001b[1;33m\u001b[0m\u001b[0m\n\u001b[1;32m--> 141\u001b[1;33m         \u001b[1;32mraise\u001b[0m \u001b[0mTypeError\u001b[0m\u001b[1;33m(\u001b[0m\u001b[1;34mf\"cannot convert the series to {converter}\"\u001b[0m\u001b[1;33m)\u001b[0m\u001b[1;33m\u001b[0m\u001b[1;33m\u001b[0m\u001b[0m\n\u001b[0m\u001b[0;32m    142\u001b[0m \u001b[1;33m\u001b[0m\u001b[0m\n\u001b[0;32m    143\u001b[0m     \u001b[0mwrapper\u001b[0m\u001b[1;33m.\u001b[0m\u001b[0m__name__\u001b[0m \u001b[1;33m=\u001b[0m \u001b[1;34mf\"__{converter.__name__}__\"\u001b[0m\u001b[1;33m\u001b[0m\u001b[1;33m\u001b[0m\u001b[0m\n",
      "\u001b[1;31mTypeError\u001b[0m: cannot convert the series to <class 'int'>"
     ]
    }
   ],
   "source": [
    "for location in locations:\n",
    "    location[0] = \" \" + location[0]\n",
    "    location.append(int(svi[(svi[\"COUNTY\"] == location[0]) & (svi['STATE'] == location[1])][\"Product\"]))"
   ]
  },
  {
   "cell_type": "code",
   "execution_count": 142,
   "id": "072aa83f",
   "metadata": {},
   "outputs": [
    {
     "ename": "TypeError",
     "evalue": "cannot convert the series to <class 'float'>",
     "output_type": "error",
     "traceback": [
      "\u001b[1;31m---------------------------------------------------------------------------\u001b[0m",
      "\u001b[1;31mTypeError\u001b[0m                                 Traceback (most recent call last)",
      "\u001b[1;32m<ipython-input-142-7dc3e41b7eb0>\u001b[0m in \u001b[0;36m<module>\u001b[1;34m\u001b[0m\n\u001b[0;32m      1\u001b[0m \u001b[1;32mfor\u001b[0m \u001b[0mlocation\u001b[0m \u001b[1;32min\u001b[0m \u001b[0mlocations\u001b[0m\u001b[1;33m:\u001b[0m\u001b[1;33m\u001b[0m\u001b[1;33m\u001b[0m\u001b[0m\n\u001b[0;32m      2\u001b[0m     \u001b[0mlocation\u001b[0m\u001b[1;33m[\u001b[0m\u001b[1;36m0\u001b[0m\u001b[1;33m]\u001b[0m \u001b[1;33m=\u001b[0m \u001b[0mlocation\u001b[0m\u001b[1;33m[\u001b[0m\u001b[1;36m0\u001b[0m\u001b[1;33m]\u001b[0m\u001b[1;33m[\u001b[0m\u001b[1;36m1\u001b[0m\u001b[1;33m:\u001b[0m\u001b[1;33m]\u001b[0m\u001b[1;33m\u001b[0m\u001b[1;33m\u001b[0m\u001b[0m\n\u001b[1;32m----> 3\u001b[1;33m     \u001b[0mlocation\u001b[0m\u001b[1;33m.\u001b[0m\u001b[0mappend\u001b[0m\u001b[1;33m(\u001b[0m\u001b[0mfloat\u001b[0m\u001b[1;33m(\u001b[0m\u001b[0msvi\u001b[0m\u001b[1;33m[\u001b[0m\u001b[1;33m(\u001b[0m\u001b[0msvi\u001b[0m\u001b[1;33m[\u001b[0m\u001b[1;34m\"County\"\u001b[0m\u001b[1;33m]\u001b[0m \u001b[1;33m==\u001b[0m \u001b[0mlocation\u001b[0m\u001b[1;33m[\u001b[0m\u001b[1;36m0\u001b[0m\u001b[1;33m]\u001b[0m\u001b[1;33m)\u001b[0m \u001b[1;33m&\u001b[0m \u001b[1;33m(\u001b[0m\u001b[0msvi\u001b[0m\u001b[1;33m[\u001b[0m\u001b[1;34m'State'\u001b[0m\u001b[1;33m]\u001b[0m \u001b[1;33m==\u001b[0m \u001b[0mlocation\u001b[0m\u001b[1;33m[\u001b[0m\u001b[1;36m1\u001b[0m\u001b[1;33m]\u001b[0m\u001b[1;33m)\u001b[0m\u001b[1;33m]\u001b[0m\u001b[1;33m[\u001b[0m\u001b[1;34m\"Latitude (generated)\"\u001b[0m\u001b[1;33m]\u001b[0m\u001b[1;33m)\u001b[0m\u001b[1;33m)\u001b[0m\u001b[1;33m\u001b[0m\u001b[1;33m\u001b[0m\u001b[0m\n\u001b[0m\u001b[0;32m      4\u001b[0m     \u001b[0mlocation\u001b[0m\u001b[1;33m.\u001b[0m\u001b[0mappendd\u001b[0m\u001b[1;33m(\u001b[0m\u001b[1;33m-\u001b[0m\u001b[0mfloat\u001b[0m\u001b[1;33m(\u001b[0m\u001b[0msvi\u001b[0m\u001b[1;33m[\u001b[0m\u001b[1;33m(\u001b[0m\u001b[0msvi\u001b[0m\u001b[1;33m[\u001b[0m\u001b[1;34m\"County\"\u001b[0m\u001b[1;33m]\u001b[0m \u001b[1;33m==\u001b[0m \u001b[0mlocation\u001b[0m\u001b[1;33m[\u001b[0m\u001b[1;36m0\u001b[0m\u001b[1;33m]\u001b[0m\u001b[1;33m)\u001b[0m \u001b[1;33m&\u001b[0m \u001b[1;33m(\u001b[0m\u001b[0msvi\u001b[0m\u001b[1;33m[\u001b[0m\u001b[1;34m'State'\u001b[0m\u001b[1;33m]\u001b[0m \u001b[1;33m==\u001b[0m \u001b[0mlocation\u001b[0m\u001b[1;33m[\u001b[0m\u001b[1;36m1\u001b[0m\u001b[1;33m]\u001b[0m\u001b[1;33m)\u001b[0m\u001b[1;33m]\u001b[0m\u001b[1;33m[\u001b[0m\u001b[1;34m\"Longitude (generated)\"\u001b[0m\u001b[1;33m]\u001b[0m\u001b[1;33m)\u001b[0m\u001b[1;33m)\u001b[0m\u001b[1;33m\u001b[0m\u001b[1;33m\u001b[0m\u001b[0m\n",
      "\u001b[1;32m~\\anaconda3\\lib\\site-packages\\pandas\\core\\series.py\u001b[0m in \u001b[0;36mwrapper\u001b[1;34m(self)\u001b[0m\n\u001b[0;32m    139\u001b[0m         \u001b[1;32mif\u001b[0m \u001b[0mlen\u001b[0m\u001b[1;33m(\u001b[0m\u001b[0mself\u001b[0m\u001b[1;33m)\u001b[0m \u001b[1;33m==\u001b[0m \u001b[1;36m1\u001b[0m\u001b[1;33m:\u001b[0m\u001b[1;33m\u001b[0m\u001b[1;33m\u001b[0m\u001b[0m\n\u001b[0;32m    140\u001b[0m             \u001b[1;32mreturn\u001b[0m \u001b[0mconverter\u001b[0m\u001b[1;33m(\u001b[0m\u001b[0mself\u001b[0m\u001b[1;33m.\u001b[0m\u001b[0miloc\u001b[0m\u001b[1;33m[\u001b[0m\u001b[1;36m0\u001b[0m\u001b[1;33m]\u001b[0m\u001b[1;33m)\u001b[0m\u001b[1;33m\u001b[0m\u001b[1;33m\u001b[0m\u001b[0m\n\u001b[1;32m--> 141\u001b[1;33m         \u001b[1;32mraise\u001b[0m \u001b[0mTypeError\u001b[0m\u001b[1;33m(\u001b[0m\u001b[1;34mf\"cannot convert the series to {converter}\"\u001b[0m\u001b[1;33m)\u001b[0m\u001b[1;33m\u001b[0m\u001b[1;33m\u001b[0m\u001b[0m\n\u001b[0m\u001b[0;32m    142\u001b[0m \u001b[1;33m\u001b[0m\u001b[0m\n\u001b[0;32m    143\u001b[0m     \u001b[0mwrapper\u001b[0m\u001b[1;33m.\u001b[0m\u001b[0m__name__\u001b[0m \u001b[1;33m=\u001b[0m \u001b[1;34mf\"__{converter.__name__}__\"\u001b[0m\u001b[1;33m\u001b[0m\u001b[1;33m\u001b[0m\u001b[0m\n",
      "\u001b[1;31mTypeError\u001b[0m: cannot convert the series to <class 'float'>"
     ]
    }
   ],
   "source": [
    "for location in locations:\n",
    "    location[0] = location[0][1:]\n",
    "    location.append(float(svi[(svi[\"County\"] == location[0]) & (svi['State'] == location[1])][\"Latitude (generated)\"]) -float(svi[(svi[\"County\"] == location[0]) & (svi['State'] == location[1])][\"Longitude (generated)\"]))"
   ]
  },
  {
   "cell_type": "code",
   "execution_count": 141,
   "id": "504bb972",
   "metadata": {},
   "outputs": [
    {
     "data": {
      "text/plain": [
       "['range', 'NC', 121353, [36.0541, 79.1222]]"
      ]
     },
     "execution_count": 141,
     "metadata": {},
     "output_type": "execute_result"
    }
   ],
   "source": [
    "location"
   ]
  },
  {
   "cell_type": "code",
   "execution_count": null,
   "id": "f133b80c",
   "metadata": {},
   "outputs": [],
   "source": []
  },
  {
   "cell_type": "code",
   "execution_count": 116,
   "id": "3b93326a",
   "metadata": {},
   "outputs": [
    {
     "data": {
      "text/plain": [
       "[[' Orange', 'NC', 121353], [' Los Angeles', 'CA', 30162720]]"
      ]
     },
     "execution_count": 116,
     "metadata": {},
     "output_type": "execute_result"
    }
   ],
   "source": [
    "locations"
   ]
  },
  {
   "cell_type": "code",
   "execution_count": 121,
   "id": "73e22510",
   "metadata": {},
   "outputs": [],
   "source": [
    "svi = pd.read_csv(\"./data/svi_cleaned_with_state_with_Longtitude_and_Latitude.csv\")"
   ]
  },
  {
   "cell_type": "code",
   "execution_count": 122,
   "id": "af746a8b",
   "metadata": {},
   "outputs": [
    {
     "data": {
      "text/html": [
       "<div>\n",
       "<style scoped>\n",
       "    .dataframe tbody tr th:only-of-type {\n",
       "        vertical-align: middle;\n",
       "    }\n",
       "\n",
       "    .dataframe tbody tr th {\n",
       "        vertical-align: top;\n",
       "    }\n",
       "\n",
       "    .dataframe thead th {\n",
       "        text-align: right;\n",
       "    }\n",
       "</style>\n",
       "<table border=\"1\" class=\"dataframe\">\n",
       "  <thead>\n",
       "    <tr style=\"text-align: right;\">\n",
       "      <th></th>\n",
       "      <th>County</th>\n",
       "      <th>State</th>\n",
       "      <th>Latitude (generated)</th>\n",
       "      <th>Longitude (generated)</th>\n",
       "      <th>E Totpop</th>\n",
       "    </tr>\n",
       "  </thead>\n",
       "  <tbody>\n",
       "    <tr>\n",
       "      <th>0</th>\n",
       "      <td>Abbeville</td>\n",
       "      <td>SC</td>\n",
       "      <td>34.2476</td>\n",
       "      <td>-82.4740</td>\n",
       "      <td>25100</td>\n",
       "    </tr>\n",
       "    <tr>\n",
       "      <th>1</th>\n",
       "      <td>Acadia</td>\n",
       "      <td>LA</td>\n",
       "      <td>30.2656</td>\n",
       "      <td>-92.4008</td>\n",
       "      <td>62031</td>\n",
       "    </tr>\n",
       "    <tr>\n",
       "      <th>2</th>\n",
       "      <td>Accomack</td>\n",
       "      <td>VA</td>\n",
       "      <td>37.7449</td>\n",
       "      <td>-75.6727</td>\n",
       "      <td>33162</td>\n",
       "    </tr>\n",
       "    <tr>\n",
       "      <th>3</th>\n",
       "      <td>Ada</td>\n",
       "      <td>ID</td>\n",
       "      <td>43.4673</td>\n",
       "      <td>-116.2240</td>\n",
       "      <td>409239</td>\n",
       "    </tr>\n",
       "    <tr>\n",
       "      <th>4</th>\n",
       "      <td>Adair</td>\n",
       "      <td>OK</td>\n",
       "      <td>35.9006</td>\n",
       "      <td>-94.6623</td>\n",
       "      <td>22380</td>\n",
       "    </tr>\n",
       "  </tbody>\n",
       "</table>\n",
       "</div>"
      ],
      "text/plain": [
       "      County State  Latitude (generated)  Longitude (generated)  E Totpop\n",
       "0  Abbeville    SC               34.2476               -82.4740     25100\n",
       "1     Acadia    LA               30.2656               -92.4008     62031\n",
       "2   Accomack    VA               37.7449               -75.6727     33162\n",
       "3        Ada    ID               43.4673              -116.2240    409239\n",
       "4      Adair    OK               35.9006               -94.6623     22380"
      ]
     },
     "execution_count": 122,
     "metadata": {},
     "output_type": "execute_result"
    }
   ],
   "source": [
    "svi.head()"
   ]
  },
  {
   "cell_type": "code",
   "execution_count": null,
   "id": "fbd94807",
   "metadata": {},
   "outputs": [],
   "source": []
  },
  {
   "cell_type": "code",
   "execution_count": 130,
   "id": "95938c6c",
   "metadata": {},
   "outputs": [
    {
     "data": {
      "text/plain": [
       "[34.2476, 82.474]"
      ]
     },
     "execution_count": 130,
     "metadata": {},
     "output_type": "execute_result"
    }
   ],
   "source": [
    "location = [\"Abbeville\", \"SC\"]\n",
    "[float(svi[(svi[\"County\"] == location[0]) & (svi['State'] == location[1])][\"Latitude (generated)\"]), -float(svi[(svi[\"County\"] == location[0]) & (svi['State'] == location[1])][\"Longitude (generated)\"])]"
   ]
  },
  {
   "cell_type": "code",
   "execution_count": 86,
   "id": "d5b94ba6",
   "metadata": {},
   "outputs": [
    {
     "ename": "TypeError",
     "evalue": "can only concatenate str (not \"tuple\") to str",
     "output_type": "error",
     "traceback": [
      "\u001b[1;31m---------------------------------------------------------------------------\u001b[0m",
      "\u001b[1;31mTypeError\u001b[0m                                 Traceback (most recent call last)",
      "\u001b[1;32m<ipython-input-86-f487b93414dc>\u001b[0m in \u001b[0;36m<module>\u001b[1;34m\u001b[0m\n\u001b[0;32m      1\u001b[0m \u001b[0mlocation\u001b[0m \u001b[1;33m=\u001b[0m \u001b[1;33m(\u001b[0m\u001b[1;34m\"Abbeville\"\u001b[0m\u001b[1;33m,\u001b[0m \u001b[1;34m\"SC\"\u001b[0m\u001b[1;33m)\u001b[0m\u001b[1;33m\u001b[0m\u001b[1;33m\u001b[0m\u001b[0m\n\u001b[1;32m----> 2\u001b[1;33m \u001b[0mlocation\u001b[0m\u001b[1;33m[\u001b[0m\u001b[1;36m0\u001b[0m\u001b[1;33m]\u001b[0m \u001b[1;33m=\u001b[0m \u001b[1;34m\" \"\u001b[0m \u001b[1;33m+\u001b[0m \u001b[0mlocation\u001b[0m\u001b[1;33m\u001b[0m\u001b[1;33m\u001b[0m\u001b[0m\n\u001b[0m\u001b[0;32m      3\u001b[0m \u001b[0mlocation\u001b[0m\u001b[1;33m.\u001b[0m\u001b[0mappend\u001b[0m\u001b[1;33m(\u001b[0m\u001b[0msvi\u001b[0m\u001b[1;33m[\u001b[0m\u001b[1;33m(\u001b[0m\u001b[1;34m\"COUNTY\"\u001b[0m \u001b[1;33m==\u001b[0m \u001b[0mlocation\u001b[0m\u001b[1;33m[\u001b[0m\u001b[1;36m0\u001b[0m\u001b[1;33m]\u001b[0m\u001b[1;33m)\u001b[0m \u001b[1;32mand\u001b[0m \u001b[1;33m(\u001b[0m\u001b[1;34m\"State\"\u001b[0m \u001b[1;33m==\u001b[0m \u001b[0mlocation\u001b[0m\u001b[1;33m[\u001b[0m\u001b[1;36m1\u001b[0m\u001b[1;33m]\u001b[0m\u001b[1;33m)\u001b[0m\u001b[1;33m]\u001b[0m\u001b[1;33m)\u001b[0m\u001b[1;33m\u001b[0m\u001b[1;33m\u001b[0m\u001b[0m\n",
      "\u001b[1;31mTypeError\u001b[0m: can only concatenate str (not \"tuple\") to str"
     ]
    }
   ],
   "source": [
    "location = (\"Abbeville\", \"SC\")\n",
    "location[0] = \" \" + location\n",
    "location.append(svi[(\"COUNTY\" == location[0]) and (\"State\" == location[1])])"
   ]
  },
  {
   "cell_type": "code",
   "execution_count": 96,
   "id": "a97a4941",
   "metadata": {},
   "outputs": [
    {
     "data": {
      "text/plain": [
       "0       False\n",
       "1       False\n",
       "2       False\n",
       "3       False\n",
       "4       False\n",
       "        ...  \n",
       "3137    False\n",
       "3138    False\n",
       "3139    False\n",
       "3140    False\n",
       "3141    False\n",
       "Name: COUNTY, Length: 3142, dtype: bool"
      ]
     },
     "execution_count": 96,
     "metadata": {},
     "output_type": "execute_result"
    }
   ],
   "source": [
    "(svi.COUNTY == \" Abbeville\") "
   ]
  },
  {
   "cell_type": "code",
   "execution_count": 97,
   "id": "90a6b742",
   "metadata": {},
   "outputs": [
    {
     "data": {
      "text/html": [
       "<div>\n",
       "<style scoped>\n",
       "    .dataframe tbody tr th:only-of-type {\n",
       "        vertical-align: middle;\n",
       "    }\n",
       "\n",
       "    .dataframe tbody tr th {\n",
       "        vertical-align: top;\n",
       "    }\n",
       "\n",
       "    .dataframe thead th {\n",
       "        text-align: right;\n",
       "    }\n",
       "</style>\n",
       "<table border=\"1\" class=\"dataframe\">\n",
       "  <thead>\n",
       "    <tr style=\"text-align: right;\">\n",
       "      <th></th>\n",
       "      <th>STATE</th>\n",
       "      <th>COUNTY</th>\n",
       "      <th>E_TOTPOP</th>\n",
       "      <th>Product</th>\n",
       "    </tr>\n",
       "  </thead>\n",
       "  <tbody>\n",
       "    <tr>\n",
       "      <th>0</th>\n",
       "      <td>SC</td>\n",
       "      <td>NaN</td>\n",
       "      <td>25100</td>\n",
       "      <td>49679</td>\n",
       "    </tr>\n",
       "    <tr>\n",
       "      <th>1</th>\n",
       "      <td>LA</td>\n",
       "      <td>Acadia</td>\n",
       "      <td>62031</td>\n",
       "      <td>110194</td>\n",
       "    </tr>\n",
       "    <tr>\n",
       "      <th>2</th>\n",
       "      <td>VA</td>\n",
       "      <td>Accomack</td>\n",
       "      <td>33162</td>\n",
       "      <td>45829</td>\n",
       "    </tr>\n",
       "    <tr>\n",
       "      <th>3</th>\n",
       "      <td>ID</td>\n",
       "      <td>Ada</td>\n",
       "      <td>409239</td>\n",
       "      <td>197684</td>\n",
       "    </tr>\n",
       "    <tr>\n",
       "      <th>4</th>\n",
       "      <td>IA</td>\n",
       "      <td>Adair</td>\n",
       "      <td>7543</td>\n",
       "      <td>3012</td>\n",
       "    </tr>\n",
       "  </tbody>\n",
       "</table>\n",
       "</div>"
      ],
      "text/plain": [
       "  STATE     COUNTY  E_TOTPOP  Product\n",
       "0    SC        NaN     25100    49679\n",
       "1    LA     Acadia     62031   110194\n",
       "2    VA   Accomack     33162    45829\n",
       "3    ID        Ada    409239   197684\n",
       "4    IA      Adair      7543     3012"
      ]
     },
     "execution_count": 97,
     "metadata": {},
     "output_type": "execute_result"
    }
   ],
   "source": [
    "svi.head()"
   ]
  },
  {
   "cell_type": "code",
   "execution_count": 109,
   "id": "49c13f35",
   "metadata": {},
   "outputs": [
    {
     "data": {
      "text/plain": [
       "[['  North', 'na', Series([], Name: Product, dtype: int64)],\n",
       " [' sdsd', 'as', Series([], Name: Product, dtype: int64)]]"
      ]
     },
     "execution_count": 109,
     "metadata": {},
     "output_type": "execute_result"
    }
   ],
   "source": [
    "locations"
   ]
  },
  {
   "cell_type": "code",
   "execution_count": null,
   "id": "032c184b",
   "metadata": {},
   "outputs": [],
   "source": []
  },
  {
   "cell_type": "code",
   "execution_count": null,
   "id": "5c8a0780",
   "metadata": {},
   "outputs": [],
   "source": []
  },
  {
   "cell_type": "code",
   "execution_count": null,
   "id": "f5efe952",
   "metadata": {},
   "outputs": [],
   "source": []
  },
  {
   "cell_type": "code",
   "execution_count": null,
   "id": "7735bddb",
   "metadata": {},
   "outputs": [],
   "source": []
  },
  {
   "cell_type": "code",
   "execution_count": null,
   "id": "3859fb00",
   "metadata": {},
   "outputs": [],
   "source": []
  },
  {
   "cell_type": "code",
   "execution_count": 78,
   "id": "535a1df0",
   "metadata": {},
   "outputs": [],
   "source": [
    "svi.columns = ['STATE', 'COUNTY', 'E_TOTPOP', 'Product']"
   ]
  },
  {
   "cell_type": "code",
   "execution_count": 79,
   "id": "26800f00",
   "metadata": {},
   "outputs": [
    {
     "data": {
      "text/html": [
       "<div>\n",
       "<style scoped>\n",
       "    .dataframe tbody tr th:only-of-type {\n",
       "        vertical-align: middle;\n",
       "    }\n",
       "\n",
       "    .dataframe tbody tr th {\n",
       "        vertical-align: top;\n",
       "    }\n",
       "\n",
       "    .dataframe thead th {\n",
       "        text-align: right;\n",
       "    }\n",
       "</style>\n",
       "<table border=\"1\" class=\"dataframe\">\n",
       "  <thead>\n",
       "    <tr style=\"text-align: right;\">\n",
       "      <th></th>\n",
       "      <th>STATE</th>\n",
       "      <th>COUNTY</th>\n",
       "      <th>E_TOTPOP</th>\n",
       "      <th>Product</th>\n",
       "    </tr>\n",
       "  </thead>\n",
       "  <tbody>\n",
       "  </tbody>\n",
       "</table>\n",
       "</div>"
      ],
      "text/plain": [
       "Empty DataFrame\n",
       "Columns: [STATE, COUNTY, E_TOTPOP, Product]\n",
       "Index: []"
      ]
     },
     "execution_count": 79,
     "metadata": {},
     "output_type": "execute_result"
    }
   ],
   "source": [
    "svi.query('STATE == \"SC\" and COUNTY == \"Abbeville\"')"
   ]
  },
  {
   "cell_type": "code",
   "execution_count": 80,
   "id": "d1093644",
   "metadata": {},
   "outputs": [
    {
     "data": {
      "text/plain": [
       "0       False\n",
       "1       False\n",
       "2       False\n",
       "3       False\n",
       "4       False\n",
       "        ...  \n",
       "3137    False\n",
       "3138    False\n",
       "3139    False\n",
       "3140    False\n",
       "3141    False\n",
       "Length: 3142, dtype: bool"
      ]
     },
     "execution_count": 80,
     "metadata": {},
     "output_type": "execute_result"
    }
   ],
   "source": [
    "(svi.STATE == \"SC\") & (svi.COUNTY == \"Abbeville\")"
   ]
  },
  {
   "cell_type": "code",
   "execution_count": 81,
   "id": "5b580acd",
   "metadata": {},
   "outputs": [
    {
     "data": {
      "text/plain": [
       "0        True\n",
       "1       False\n",
       "2       False\n",
       "3       False\n",
       "4       False\n",
       "        ...  \n",
       "3137    False\n",
       "3138    False\n",
       "3139    False\n",
       "3140    False\n",
       "3141    False\n",
       "Name: STATE, Length: 3142, dtype: bool"
      ]
     },
     "execution_count": 81,
     "metadata": {},
     "output_type": "execute_result"
    }
   ],
   "source": [
    "(svi.STATE == \"SC\")"
   ]
  },
  {
   "cell_type": "code",
   "execution_count": 84,
   "id": "8b39b2c4",
   "metadata": {},
   "outputs": [
    {
     "data": {
      "text/plain": [
       "0       False\n",
       "1       False\n",
       "2        True\n",
       "3       False\n",
       "4       False\n",
       "        ...  \n",
       "3137    False\n",
       "3138    False\n",
       "3139    False\n",
       "3140    False\n",
       "3141    False\n",
       "Name: COUNTY, Length: 3142, dtype: bool"
      ]
     },
     "execution_count": 84,
     "metadata": {},
     "output_type": "execute_result"
    }
   ],
   "source": [
    "(svi.COUNTY == \" Accomack\")"
   ]
  },
  {
   "cell_type": "code",
   "execution_count": 55,
   "id": "a53d082c",
   "metadata": {},
   "outputs": [
    {
     "data": {
      "text/plain": [
       "STATE               SC\n",
       "COUNTY       Abbeville\n",
       "E_TOTPOP         25100\n",
       "Product          49679\n",
       "Name: 0, dtype: object"
      ]
     },
     "execution_count": 55,
     "metadata": {},
     "output_type": "execute_result"
    }
   ],
   "source": [
    "svi.iloc[0]"
   ]
  },
  {
   "cell_type": "code",
   "execution_count": 70,
   "id": "61ed599a",
   "metadata": {},
   "outputs": [],
   "source": [
    "svi.COUNTY = svi.COUNTY[1:]"
   ]
  },
  {
   "cell_type": "code",
   "execution_count": 73,
   "id": "6e7f061c",
   "metadata": {},
   "outputs": [
    {
     "data": {
      "text/plain": [
       "1         Abbeville Acadia\n",
       "2       Abbeville Accomack\n",
       "3            Abbeville Ada\n",
       "4          Abbeville Adair\n",
       "5          Abbeville Adair\n",
       "               ...        \n",
       "3137        Abbeville Yuma\n",
       "3138        Abbeville Yuma\n",
       "3139      Abbeville Zapata\n",
       "3140      Abbeville Zavala\n",
       "3141     Abbeville Ziebach\n",
       "Name: COUNTY, Length: 3141, dtype: object"
      ]
     },
     "execution_count": 73,
     "metadata": {},
     "output_type": "execute_result"
    }
   ],
   "source": []
  },
  {
   "cell_type": "code",
   "execution_count": 113,
   "id": "14b16de3",
   "metadata": {},
   "outputs": [
    {
     "data": {
      "text/plain": [
       "49679"
      ]
     },
     "execution_count": 113,
     "metadata": {},
     "output_type": "execute_result"
    }
   ],
   "source": [
    "int(svi[(svi[\"COUNTY\"] == \" Abbeville\") & (svi['STATE'] == \"SC\")][\"Product\"])"
   ]
  },
  {
   "cell_type": "code",
   "execution_count": 101,
   "id": "43f65050",
   "metadata": {},
   "outputs": [
    {
     "data": {
      "text/plain": [
       "0        True\n",
       "1       False\n",
       "2       False\n",
       "3       False\n",
       "4       False\n",
       "        ...  \n",
       "3137    False\n",
       "3138    False\n",
       "3139    False\n",
       "3140    False\n",
       "3141    False\n",
       "Name: STATE, Length: 3142, dtype: bool"
      ]
     },
     "execution_count": 101,
     "metadata": {},
     "output_type": "execute_result"
    }
   ],
   "source": [
    "svi['STATE'] == \"SC\""
   ]
  },
  {
   "cell_type": "code",
   "execution_count": 103,
   "id": "ef0341e3",
   "metadata": {},
   "outputs": [
    {
     "data": {
      "text/plain": [
       "0       False\n",
       "1       False\n",
       "2       False\n",
       "3       False\n",
       "4       False\n",
       "        ...  \n",
       "3137    False\n",
       "3138    False\n",
       "3139    False\n",
       "3140    False\n",
       "3141    False\n",
       "Name: COUNTY, Length: 3142, dtype: bool"
      ]
     },
     "execution_count": 103,
     "metadata": {},
     "output_type": "execute_result"
    }
   ],
   "source": [
    "svi[\"COUNTY\"] == \"Abbeville\""
   ]
  },
  {
   "cell_type": "code",
   "execution_count": null,
   "id": "e699b495",
   "metadata": {},
   "outputs": [],
   "source": []
  },
  {
   "cell_type": "code",
   "execution_count": 104,
   "id": "19915fa8",
   "metadata": {},
   "outputs": [],
   "source": [
    "svi.replace(np.nan, \" Abbeville\", inplace=True)"
   ]
  },
  {
   "cell_type": "code",
   "execution_count": null,
   "id": "d2a8de82",
   "metadata": {},
   "outputs": [],
   "source": []
  },
  {
   "cell_type": "code",
   "execution_count": 74,
   "id": "6d058a18",
   "metadata": {},
   "outputs": [
    {
     "data": {
      "text/html": [
       "<div>\n",
       "<style scoped>\n",
       "    .dataframe tbody tr th:only-of-type {\n",
       "        vertical-align: middle;\n",
       "    }\n",
       "\n",
       "    .dataframe tbody tr th {\n",
       "        vertical-align: top;\n",
       "    }\n",
       "\n",
       "    .dataframe thead th {\n",
       "        text-align: right;\n",
       "    }\n",
       "</style>\n",
       "<table border=\"1\" class=\"dataframe\">\n",
       "  <thead>\n",
       "    <tr style=\"text-align: right;\">\n",
       "      <th></th>\n",
       "      <th>STATE</th>\n",
       "      <th>COUNTY</th>\n",
       "      <th>E_TOTPOP</th>\n",
       "      <th>Product</th>\n",
       "    </tr>\n",
       "  </thead>\n",
       "  <tbody>\n",
       "    <tr>\n",
       "      <th>0</th>\n",
       "      <td>SC</td>\n",
       "      <td>NaN</td>\n",
       "      <td>25100</td>\n",
       "      <td>49679</td>\n",
       "    </tr>\n",
       "    <tr>\n",
       "      <th>1</th>\n",
       "      <td>LA</td>\n",
       "      <td>Acadia</td>\n",
       "      <td>62031</td>\n",
       "      <td>110194</td>\n",
       "    </tr>\n",
       "    <tr>\n",
       "      <th>2</th>\n",
       "      <td>VA</td>\n",
       "      <td>Accomack</td>\n",
       "      <td>33162</td>\n",
       "      <td>45829</td>\n",
       "    </tr>\n",
       "    <tr>\n",
       "      <th>3</th>\n",
       "      <td>ID</td>\n",
       "      <td>Ada</td>\n",
       "      <td>409239</td>\n",
       "      <td>197684</td>\n",
       "    </tr>\n",
       "    <tr>\n",
       "      <th>4</th>\n",
       "      <td>IA</td>\n",
       "      <td>Adair</td>\n",
       "      <td>7543</td>\n",
       "      <td>3012</td>\n",
       "    </tr>\n",
       "  </tbody>\n",
       "</table>\n",
       "</div>"
      ],
      "text/plain": [
       "  STATE      COUNTY  E_TOTPOP  Product\n",
       "0     SC        NaN     25100    49679\n",
       "1     LA     Acadia     62031   110194\n",
       "2     VA   Accomack     33162    45829\n",
       "3     ID        Ada    409239   197684\n",
       "4     IA      Adair      7543     3012"
      ]
     },
     "execution_count": 74,
     "metadata": {},
     "output_type": "execute_result"
    }
   ],
   "source": [
    "svi.head()"
   ]
  },
  {
   "cell_type": "code",
   "execution_count": 67,
   "id": "6faf2293",
   "metadata": {},
   "outputs": [
    {
     "name": "stdout",
     "output_type": "stream",
     "text": [
      "<class 'pandas.core.frame.DataFrame'>\n",
      "RangeIndex: 3142 entries, 0 to 3141\n",
      "Data columns (total 4 columns):\n",
      " #   Column    Non-Null Count  Dtype \n",
      "---  ------    --------------  ----- \n",
      " 0   STATE     3142 non-null   object\n",
      " 1   COUNTY    3141 non-null   object\n",
      " 2   E_TOTPOP  3142 non-null   int64 \n",
      " 3   Product   3142 non-null   int64 \n",
      "dtypes: int64(2), object(2)\n",
      "memory usage: 98.3+ KB\n"
     ]
    }
   ],
   "source": [
    "svi.info()"
   ]
  },
  {
   "cell_type": "code",
   "execution_count": null,
   "id": "46468ffd",
   "metadata": {},
   "outputs": [],
   "source": [
    "svi."
   ]
  },
  {
   "cell_type": "code",
   "execution_count": null,
   "id": "cc995605",
   "metadata": {},
   "outputs": [],
   "source": [
    "for location in locations:\n",
    "    location.append(svi[(\"COUNTY\" == location[0]) and (\"State\")]"
   ]
  },
  {
   "cell_type": "code",
   "execution_count": 26,
   "id": "defbb5c3",
   "metadata": {},
   "outputs": [
    {
     "ename": "AttributeError",
     "evalue": "'DataFrame' object has no attribute 'STATE'",
     "output_type": "error",
     "traceback": [
      "\u001b[1;31m---------------------------------------------------------------------------\u001b[0m",
      "\u001b[1;31mAttributeError\u001b[0m                            Traceback (most recent call last)",
      "\u001b[1;32m<ipython-input-26-71dc71b7007e>\u001b[0m in \u001b[0;36m<module>\u001b[1;34m\u001b[0m\n\u001b[1;32m----> 1\u001b[1;33m \u001b[0msvi\u001b[0m\u001b[1;33m.\u001b[0m\u001b[0mSTATE\u001b[0m \u001b[1;33m==\u001b[0m \u001b[1;34m\"ID\"\u001b[0m\u001b[1;33m\u001b[0m\u001b[1;33m\u001b[0m\u001b[0m\n\u001b[0m",
      "\u001b[1;32m~\\anaconda3\\lib\\site-packages\\pandas\\core\\generic.py\u001b[0m in \u001b[0;36m__getattr__\u001b[1;34m(self, name)\u001b[0m\n\u001b[0;32m   5463\u001b[0m             \u001b[1;32mif\u001b[0m \u001b[0mself\u001b[0m\u001b[1;33m.\u001b[0m\u001b[0m_info_axis\u001b[0m\u001b[1;33m.\u001b[0m\u001b[0m_can_hold_identifiers_and_holds_name\u001b[0m\u001b[1;33m(\u001b[0m\u001b[0mname\u001b[0m\u001b[1;33m)\u001b[0m\u001b[1;33m:\u001b[0m\u001b[1;33m\u001b[0m\u001b[1;33m\u001b[0m\u001b[0m\n\u001b[0;32m   5464\u001b[0m                 \u001b[1;32mreturn\u001b[0m \u001b[0mself\u001b[0m\u001b[1;33m[\u001b[0m\u001b[0mname\u001b[0m\u001b[1;33m]\u001b[0m\u001b[1;33m\u001b[0m\u001b[1;33m\u001b[0m\u001b[0m\n\u001b[1;32m-> 5465\u001b[1;33m             \u001b[1;32mreturn\u001b[0m \u001b[0mobject\u001b[0m\u001b[1;33m.\u001b[0m\u001b[0m__getattribute__\u001b[0m\u001b[1;33m(\u001b[0m\u001b[0mself\u001b[0m\u001b[1;33m,\u001b[0m \u001b[0mname\u001b[0m\u001b[1;33m)\u001b[0m\u001b[1;33m\u001b[0m\u001b[1;33m\u001b[0m\u001b[0m\n\u001b[0m\u001b[0;32m   5466\u001b[0m \u001b[1;33m\u001b[0m\u001b[0m\n\u001b[0;32m   5467\u001b[0m     \u001b[1;32mdef\u001b[0m \u001b[0m__setattr__\u001b[0m\u001b[1;33m(\u001b[0m\u001b[0mself\u001b[0m\u001b[1;33m,\u001b[0m \u001b[0mname\u001b[0m\u001b[1;33m:\u001b[0m \u001b[0mstr\u001b[0m\u001b[1;33m,\u001b[0m \u001b[0mvalue\u001b[0m\u001b[1;33m)\u001b[0m \u001b[1;33m->\u001b[0m \u001b[1;32mNone\u001b[0m\u001b[1;33m:\u001b[0m\u001b[1;33m\u001b[0m\u001b[1;33m\u001b[0m\u001b[0m\n",
      "\u001b[1;31mAttributeError\u001b[0m: 'DataFrame' object has no attribute 'STATE'"
     ]
    }
   ],
   "source": [
    "svi.STATE == \"ID\""
   ]
  },
  {
   "cell_type": "code",
   "execution_count": null,
   "id": "5e1a7f48",
   "metadata": {},
   "outputs": [],
   "source": [
    "locations = []\n",
    "point = input(\"Where (in the format of County, State) did disaster take place? (Enter q if you complete entering)\")\n",
    "while(point != \"q\"):\n",
    "    locations.append(point,)\n",
    "    point = input(\"Where (in the format of County, State) did disaster take place? (Enter q if you complete entering)\")"
   ]
  },
  {
   "cell_type": "code",
   "execution_count": null,
   "id": "bf1d19a7",
   "metadata": {},
   "outputs": [],
   "source": []
  },
  {
   "cell_type": "code",
   "execution_count": 69,
   "id": "394b98a9",
   "metadata": {},
   "outputs": [
    {
     "data": {
      "text/plain": [
       "False"
      ]
     },
     "execution_count": 69,
     "metadata": {},
     "output_type": "execute_result"
    }
   ],
   "source": [
    "svi.COUNTY "
   ]
  },
  {
   "cell_type": "code",
   "execution_count": 8,
   "id": "d8283bed",
   "metadata": {},
   "outputs": [
    {
     "name": "stdout",
     "output_type": "stream",
     "text": [
      "Requirement already satisfied: geopy in c:\\users\\qaz27\\anaconda3\\lib\\site-packages (2.2.0)\n",
      "Requirement already satisfied: geographiclib<2,>=1.49 in c:\\users\\qaz27\\anaconda3\\lib\\site-packages (from geopy) (1.52)\n",
      "Note: you may need to restart the kernel to use updated packages.\n"
     ]
    }
   ],
   "source": []
  },
  {
   "cell_type": "code",
   "execution_count": 4,
   "id": "fec27f49",
   "metadata": {},
   "outputs": [
    {
     "name": "stdout",
     "output_type": "stream",
     "text": [
      "Where did disaster take place? (Enter q if you complete entering)123\n",
      "<class 'str'>\n"
     ]
    }
   ],
   "source": []
  },
  {
   "cell_type": "code",
   "execution_count": null,
   "id": "45aa45f8",
   "metadata": {},
   "outputs": [],
   "source": []
  }
 ],
 "metadata": {
  "kernelspec": {
   "display_name": "Python 3",
   "language": "python",
   "name": "python3"
  },
  "language_info": {
   "codemirror_mode": {
    "name": "ipython",
    "version": 3
   },
   "file_extension": ".py",
   "mimetype": "text/x-python",
   "name": "python",
   "nbconvert_exporter": "python",
   "pygments_lexer": "ipython3",
   "version": "3.8.8"
  }
 },
 "nbformat": 4,
 "nbformat_minor": 5
}
